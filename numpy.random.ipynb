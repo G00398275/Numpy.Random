{
 "cells": [
  {
   "cell_type": "markdown",
   "id": "099285a5",
   "metadata": {},
   "source": [
    "# The numpy.random package\n",
    "\n",
    "## Author: Ross Downey (G00398275)\n",
    "\n",
    "## Programming for Data Analysis 2021\n",
    "\n",
    "### numpy.random.ipynb\n",
    "***\n",
    "[Official Documentation](https://numpy.org/doc/stable/reference/random/index.html)"
   ]
  },
  {
   "cell_type": "markdown",
   "id": "47c8f02f-1e63-4e97-99d6-fe935460507b",
   "metadata": {},
   "source": [
    "![](https://neuraspike.com/wp-content/uploads/2020/11/thumbnail_numpy_tutorial_logo-neuraspike.png.png)"
   ]
  },
  {
   "cell_type": "code",
   "execution_count": 1,
   "id": "2a48861a-1791-4797-b2a5-bca065b2389b",
   "metadata": {},
   "outputs": [],
   "source": [
    "# Importing appropriate python packages for coding\n",
    "import numpy as np\n",
    "import matplotlib.pyplot as plt"
   ]
  },
  {
   "cell_type": "markdown",
   "id": "df42de09-2e67-4b2a-9d24-103957883200",
   "metadata": {},
   "source": [
    "## Aim\n",
    "The aim of this Jupyter notebook is to explain the overall purpose of the numpy.random package in Python. This notebook will provide an explanation of the overall purpose of the numpy.random package. The \"Simple Random Data\" and \"Permutations\" functions will be explained with coded examples and plots. In addition five \"Distributions\" functions will be explained. The five distributions to be covered are Uniform, Normal, Logistic, Poisson, and, Gamma. Also, the use of seeds in generating pseudorandom numbers will be discussed with coding and plotting examples for clear explanations."
   ]
  },
  {
   "cell_type": "markdown",
   "id": "07798fc4-ecb7-4b97-817b-ed46e78895ca",
   "metadata": {},
   "source": [
    "## Overall Purpose\n",
    "The overall purpose of the numpy.random package in Python is to generate pseudorandom numbers based on different mathematical functions. These pseudo random numbers can subsequently be used to perform a wide variety of statistical analyses and operations on numerical data such as sorting, basic linear algebra, random simulation etc. [1]  \n",
    "Numpy stands for 'Numerical Python'. Travis Oliphant, an American data scientist, (along with other contributors) created Numpy in 2005 [2] as more modern replacement, suitable for newer programming languages, for Matlab.  \n",
    "As previously stated there are a wide variety of mathematical functions that can be performed using Numpy. For the purposes of this notebook the specific function covered here will be the numpy.random package. The generation of pseudorandom numbers or data has a large number of real world applications such as computer games development, online gambling games, crytography (such as password generation) to name a few. In these cases it is crucial that the numbers generated are truely random (or appear to be so) so that, for example, hackers could not guess a password, or defraud an online gambling website.  \n",
    "![](https://troymedia.com/wp-content/uploads/sites/6/2020/10/slots650.jpg)  \n",
    "\n",
    "In order for data to be generated randomly (or appear to be generated randomly) a computer needs a procedure to do so that is not evident to an end user. For example, if a hacker was trying to decrpyt a password randomly generated to break into a website / e mail inbox / online bank account etc. the encryption method needs to hidden from the end user. If the hacker was aware of the procedure that the machine used to generate these pseudorandom numbers then it is possible they could replicate the password by copying what the computer is doing.  \n",
    "Consequently, the procedure used by the computer to generate this random data needs to be highly effective and extremely difficult to replicate. The default method used by numpy.random to \"seed\" this random data is PCG64 (Permuted Congruential Generator - 64bit). This will be discussed further in the section on \"Seeds\" in this notebook.  \n",
    "Another use of this psuedorandom data is in the creation of statistcial models in data analytics. These randomly created statistical models (based on certain mathematical functions) can be used for the purposes of investigating real world data with great effect.[3]  \n",
    "\n"
   ]
  },
  {
   "cell_type": "markdown",
   "id": "e229fd50-a518-49c6-a5d8-96b66a41787d",
   "metadata": {},
   "source": [
    "## Simple Random Data\n",
    "***\n",
    "The basic function of simple random data is simply to generate pseudorandom numbers in Python. Consider the below example:"
   ]
  },
  {
   "cell_type": "code",
   "execution_count": 2,
   "id": "1098edab-394f-4d60-b03e-0cfec6d61f98",
   "metadata": {},
   "outputs": [
    {
     "data": {
      "text/plain": [
       "array([6, 6, 3, 2, 1, 7, 6, 8, 8, 8], dtype=int64)"
      ]
     },
     "execution_count": 2,
     "metadata": {},
     "output_type": "execute_result"
    }
   ],
   "source": [
    "# Adapted from Numpy Official Documentation Example\n",
    "rng = np.random.default_rng()\n",
    "rng.integers(1, 10, size=10)"
   ]
  },
  {
   "cell_type": "markdown",
   "id": "c683c60c-23eb-41da-bfa8-a37db7fdb140",
   "metadata": {},
   "source": [
    "The code above has generated 10 random numbers (Size 10), in the range 1-10 (1, 10, in the round brackets), and is of data type int64 (the default option). Re-running the code will produce a different array of 10 integers. Amending the size to a different number will produce that number in a different array. See below."
   ]
  },
  {
   "cell_type": "code",
   "execution_count": 3,
   "id": "d1ba01f4-9449-4293-be1e-8dec8378a2f9",
   "metadata": {},
   "outputs": [
    {
     "data": {
      "text/plain": [
       "array([4, 4, 6, 4, 8, 7, 7, 1, 1, 5, 1, 7, 1, 7, 9, 6, 9, 8, 2, 5, 5, 9,\n",
       "       4, 7, 5, 4, 5, 7, 5, 3, 6, 7, 3, 9, 7, 9, 8, 8, 4, 6, 3, 1, 9, 2,\n",
       "       3, 7, 9, 1, 1, 9, 5, 8, 1, 9, 4, 5, 6, 9, 2, 1, 1, 8, 4, 5, 7, 5,\n",
       "       8, 4, 6, 3, 6, 8, 7, 1, 3, 8, 8, 6, 2, 5, 2, 4, 5, 7, 2, 9, 1, 3,\n",
       "       2, 8, 6, 9, 9, 7, 6, 7, 7, 2, 6, 4], dtype=int64)"
      ]
     },
     "execution_count": 3,
     "metadata": {},
     "output_type": "execute_result"
    }
   ],
   "source": [
    "rng.integers(1, 10, size=100)"
   ]
  },
  {
   "cell_type": "markdown",
   "id": "3085c6e9-3c27-46d2-93ff-f9f1e6cc74a9",
   "metadata": {},
   "source": [
    "Another option is to produce matrices instead of one-dimensional arrays. The below code will produce 10 different arrays in the range 1-10 in a two-dimensional matrix:"
   ]
  },
  {
   "cell_type": "code",
   "execution_count": 4,
   "id": "7b9cdf4e-f41f-4e2e-9dd7-91f7d83e7bb0",
   "metadata": {},
   "outputs": [
    {
     "data": {
      "text/plain": [
       "array([[4, 6, 6, 5, 1, 9, 1, 6, 7, 2],\n",
       "       [8, 8, 3, 8, 9, 5, 3, 7, 7, 6],\n",
       "       [4, 2, 8, 7, 5, 8, 3, 6, 7, 8],\n",
       "       [9, 4, 3, 9, 4, 7, 5, 7, 8, 9],\n",
       "       [6, 5, 6, 2, 9, 3, 1, 5, 6, 9],\n",
       "       [5, 7, 8, 8, 8, 9, 9, 6, 1, 3],\n",
       "       [1, 8, 2, 8, 1, 8, 2, 7, 4, 5],\n",
       "       [4, 8, 7, 8, 2, 9, 2, 7, 9, 3],\n",
       "       [8, 6, 9, 1, 3, 8, 5, 5, 5, 3],\n",
       "       [9, 7, 5, 4, 8, 7, 8, 4, 4, 5]], dtype=int64)"
      ]
     },
     "execution_count": 4,
     "metadata": {},
     "output_type": "execute_result"
    }
   ],
   "source": [
    "rng.integers(1, 10, size=(10, 10))"
   ]
  },
  {
   "cell_type": "markdown",
   "id": "8ea36a7c-18c4-4904-b5e5-f2ae20126410",
   "metadata": {},
   "source": [
    "An increase of size in this example leads to a large amount of data with relative ease. Note jupyter will only display the first three and last three arrays in this case but there are 1000 arrays"
   ]
  },
  {
   "cell_type": "code",
   "execution_count": 5,
   "id": "ce2b7815-9063-4f10-b045-3d86880b8b64",
   "metadata": {},
   "outputs": [
    {
     "data": {
      "text/plain": [
       "array([[7, 2, 5, ..., 9, 5, 4],\n",
       "       [8, 5, 7, ..., 9, 6, 2],\n",
       "       [3, 8, 4, ..., 7, 7, 3],\n",
       "       ...,\n",
       "       [9, 8, 2, ..., 2, 8, 9],\n",
       "       [6, 6, 7, ..., 5, 1, 6],\n",
       "       [7, 4, 1, ..., 1, 1, 5]], dtype=int64)"
      ]
     },
     "execution_count": 5,
     "metadata": {},
     "output_type": "execute_result"
    }
   ],
   "source": [
    "rng.integers(1, 10, size=(1000, 1000))"
   ]
  },
  {
   "cell_type": "markdown",
   "id": "ec93da5f-1637-4682-a446-c7ea305efc72",
   "metadata": {},
   "source": [
    "Once the randomly generated data starts to get large like in example above a better approach is grpahically plot the data. This allows for easier comprehension of large datasets by the end user."
   ]
  },
  {
   "cell_type": "code",
   "execution_count": 6,
   "id": "02428da6-dc46-4299-b0fa-5eed1db4f38d",
   "metadata": {},
   "outputs": [
    {
     "data": {
      "text/plain": [
       "(array([ 97.,  80., 105.,  92.,  99.,  88., 120., 101., 116., 102.]),\n",
       " array([0. , 0.9, 1.8, 2.7, 3.6, 4.5, 5.4, 6.3, 7.2, 8.1, 9. ]),\n",
       " <BarContainer object of 10 artists>)"
      ]
     },
     "execution_count": 6,
     "metadata": {},
     "output_type": "execute_result"
    },
    {
     "data": {
      "image/png": "[encoded data removed]",
      "text/plain": [
       "<Figure size 432x288 with 1 Axes>"
      ]
     },
     "metadata": {
      "needs_background": "light"
     },
     "output_type": "display_data"
    }
   ],
   "source": [
    "x = rng.integers(10, size=(1000))\n",
    "plt.hist(x)"
   ]
  },
  {
   "cell_type": "markdown",
   "id": "3f6d48e1-ab20-4af4-945a-f62991c73255",
   "metadata": {},
   "source": [
    "The histogram above provides an easier to understand visualisation of the data. The random data generator was requested to give us 1000 values in the range 0-10 in the code. Visualizing this as pure integers is quite difficult for humans. Plotting the histogram quickly, and accurately, tells us that there are 80 instances of 0, 100 instances of 1 and so on. Increasing the sample size will give us a more uniform distribution as simply there are more data points taken."
   ]
  },
  {
   "cell_type": "code",
   "execution_count": 7,
   "id": "7bec42a0-485e-4a52-a7fc-979814dd41ab",
   "metadata": {},
   "outputs": [
    {
     "data": {
      "text/plain": [
       "(array([10068.,  9963.,  9964.,  9957.,  9935.,  9996., 10047.,  9796.,\n",
       "        10021., 10253.]),\n",
       " array([0. , 0.9, 1.8, 2.7, 3.6, 4.5, 5.4, 6.3, 7.2, 8.1, 9. ]),\n",
       " <BarContainer object of 10 artists>)"
      ]
     },
     "execution_count": 7,
     "metadata": {},
     "output_type": "execute_result"
    },
    {
     "data": {
      "image/png": "[encoded data removed]",
      "text/plain": [
       "<Figure size 432x288 with 1 Axes>"
      ]
     },
     "metadata": {
      "needs_background": "light"
     },
     "output_type": "display_data"
    }
   ],
   "source": [
    "x = rng.integers(10, size=(100000))\n",
    "plt.hist(x)"
   ]
  },
  {
   "cell_type": "markdown",
   "id": "84e1c886-f0e0-45d5-a8f0-ccec8802debe",
   "metadata": {},
   "source": [
    "The above example shows that all numbers in our range 0-10 are being randomly genereated at the same frequency. The default distribution in numpy.random is uniform. This means that all integers have an equal chance of being randomly outputted. i.e. in the above case 2 is as likely to be outputted as 8, for example. In the real world data is rarely uniformly distributed. There are a large number of mathematical distributions possible, and some of these will be discussed below in this notebook.  \n",
    "A practical use of this simple random generator would be in the Irish lottery (Lotto). This lottery requires the generation of 7 random numbers in the range 1-47. While it's done (theatrically!) in a television studio, under external supervision, with the random selection of numbered balls by a machine, it could also be done with a simple line of code using numpy.random:"
   ]
  },
  {
   "cell_type": "code",
   "execution_count": 8,
   "id": "f8b5b048-d753-426f-9764-4f3994b2a962",
   "metadata": {},
   "outputs": [
    {
     "data": {
      "text/plain": [
       "array([24, 29, 35, 40, 30, 37, 45], dtype=int64)"
      ]
     },
     "execution_count": 8,
     "metadata": {},
     "output_type": "execute_result"
    }
   ],
   "source": [
    "rng.integers(1, 47, size=7)"
   ]
  },
  {
   "cell_type": "markdown",
   "id": "4adc91ec-0109-4bcc-a708-78a98170b856",
   "metadata": {},
   "source": [
    "The above code produces the first six numbers required for the lotto draw, and the seventh 'bonus' ball also needed for further prizes. Re-running the code produces different results each time. As the integers generated are randomly outputted this could be used to produce the lotto numbers each week but I doubt the viewing public would tune in, or trust the data being generated for that matter...  "
   ]
  },
  {
   "cell_type": "markdown",
   "id": "24a8eb16-62e7-46a9-b177-43e7dcf31348",
   "metadata": {},
   "source": [
    "## Permutations\n",
    "***\n",
    "Another function to be discussed in the numpy.random package is the permutations function. Permutation of a set of data involves the order in which the data is placed, or re-arrangement of a set of data. [4] The permutations function in numpy.random allows the end user to re-arrange the order in which a set of data is displayed. Consider the simple example below, adapted from the official documentation:"
   ]
  },
  {
   "cell_type": "code",
   "execution_count": 9,
   "id": "2480433f-d684-4707-b943-14fe4b46499d",
   "metadata": {},
   "outputs": [
    {
     "data": {
      "text/plain": [
       "array([1, 2, 3, 4, 5, 6, 7, 8, 9])"
      ]
     },
     "execution_count": 9,
     "metadata": {},
     "output_type": "execute_result"
    }
   ],
   "source": [
    "x = np.arange(1, 10)\n",
    "x"
   ]
  },
  {
   "cell_type": "code",
   "execution_count": 10,
   "id": "f3a94202-5b2a-4268-a720-9595c0f39428",
   "metadata": {},
   "outputs": [
    {
     "data": {
      "text/plain": [
       "array([4, 3, 9, 2, 6, 5, 1, 8, 7])"
      ]
     },
     "execution_count": 10,
     "metadata": {},
     "output_type": "execute_result"
    }
   ],
   "source": [
    "y = rng.permuted(x, out=x)\n",
    "x"
   ]
  },
  {
   "cell_type": "markdown",
   "id": "fcd878ac-494e-465b-99d6-8e5b530c28a0",
   "metadata": {},
   "source": [
    "The original array is in the order 1 to 10. Applying the permutation to the array re-arranges the order randomly. \n",
    "Re-runnig the previous cell re-arranges the array in a different order each time.  \n",
    "The permutations function can also be applied across two-dimensional data:"
   ]
  },
  {
   "cell_type": "code",
   "execution_count": 11,
   "id": "675bc9ab-8d76-4d56-b724-a9d4bc64554a",
   "metadata": {},
   "outputs": [
    {
     "data": {
      "text/plain": [
       "array([[ 0,  1,  2,  3,  4],\n",
       "       [ 5,  6,  7,  8,  9],\n",
       "       [10, 11, 12, 13, 14],\n",
       "       [15, 16, 17, 18, 19]])"
      ]
     },
     "execution_count": 11,
     "metadata": {},
     "output_type": "execute_result"
    }
   ],
   "source": [
    "x = np.arange(0, 20).reshape(4, 5)\n",
    "# Splitting the data into 4 rows, taken from official documentation\n",
    "x"
   ]
  },
  {
   "cell_type": "code",
   "execution_count": 12,
   "id": "ec0c64c7-2721-41b1-9f42-f02115a94371",
   "metadata": {},
   "outputs": [
    {
     "data": {
      "text/plain": [
       "array([[ 0,  3,  4,  1,  2],\n",
       "       [ 8,  7,  6,  5,  9],\n",
       "       [10, 12, 13, 14, 11],\n",
       "       [18, 17, 16, 15, 19]])"
      ]
     },
     "execution_count": 12,
     "metadata": {},
     "output_type": "execute_result"
    }
   ],
   "source": [
    "rng.permuted(x, out = x, axis=1)\n",
    "x"
   ]
  },
  {
   "cell_type": "markdown",
   "id": "e9c2cadb-d7e4-45a1-9922-c154e9c1543c",
   "metadata": {},
   "source": [
    "The original array is re-arranged, but the integers remain in their original rows."
   ]
  },
  {
   "cell_type": "code",
   "execution_count": 13,
   "id": "148250f0-13ef-4b1a-94cf-91c25d68c343",
   "metadata": {},
   "outputs": [
    {
     "data": {
      "text/plain": [
       "array([[10, 17, 13,  5, 11],\n",
       "       [18,  3,  6,  1,  2],\n",
       "       [ 0,  7, 16, 15,  9],\n",
       "       [ 8, 12,  4, 14, 19]])"
      ]
     },
     "execution_count": 13,
     "metadata": {},
     "output_type": "execute_result"
    }
   ],
   "source": [
    "rng.permuted(x, out = x, axis=0)\n",
    "x"
   ]
  },
  {
   "cell_type": "markdown",
   "id": "094aa47e-f514-443f-95ff-5cda9b177be1",
   "metadata": {},
   "source": [
    "Converting the axis value to zero allows for full permutation across the four rows.  \n",
    "Permutations can also be performed across other sets of data that aren't generated by numpy, also, the list does not have to be numerical to be permuted. In this case the shuffle command is used."
   ]
  },
  {
   "cell_type": "code",
   "execution_count": 14,
   "id": "99fcaa90-6c82-46e7-9ff9-48adacac8628",
   "metadata": {},
   "outputs": [
    {
     "data": {
      "text/plain": [
       "['Melons',\n",
       " 'Grapes',\n",
       " 'Lemons',\n",
       " 'Figs',\n",
       " 'Oranges',\n",
       " 'Bananas',\n",
       " 'Apples',\n",
       " 'Watermelons']"
      ]
     },
     "execution_count": 14,
     "metadata": {},
     "output_type": "execute_result"
    }
   ],
   "source": [
    "List = ['Apples', 'Bananas', 'Figs', 'Grapes', 'Lemons', 'Melons', 'Oranges', 'Watermelons']\n",
    "rng.shuffle(List)\n",
    "List"
   ]
  },
  {
   "cell_type": "markdown",
   "id": "c8e4955b-64bd-4955-afef-731693cfa81b",
   "metadata": {},
   "source": [
    "The main application of permutations in terms of computer science is in the field of crytography and encryption. Having the ability to send encrypted data across the internet is crucial. If data is not secured, particularly personal data, it can lead to disastrous consequences, either personally or financially."
   ]
  },
  {
   "cell_type": "markdown",
   "id": "466cca30-8344-429b-ad94-ba6c0b42c622",
   "metadata": {},
   "source": [
    "![](https://directcrack.info/wp-content/uploads/2020/12/GiliSoft-USB-Lock-Crack10.0-Latest-Version-Free-Download.png)"
   ]
  },
  {
   "cell_type": "markdown",
   "id": "4fbb8f4c-f77f-4c09-8d80-3896bd004062",
   "metadata": {},
   "source": [
    "Consider the recent hacking of the people's medical data in Ireland. As people's personal data was not properly secured, hackers were able to access the HSE's online system in a ransomware style attack, and consequently release people's personal details across the internet. [5] A properly encrypted and secure system would not have allowed this hack to happen.  \n",
    "Being able to send data securely across the internet is essential in the modern world. The encryption and decryption of data allows for this to occur. Permutation of data by programs such as the numpy.random package in Python can be used to encrpyt data, send it across the web, and decrypt it once it is received. "
   ]
  },
  {
   "cell_type": "code",
   "execution_count": null,
   "id": "04eaa800-08a3-4b07-b6db-fbef381e7c96",
   "metadata": {},
   "outputs": [],
   "source": []
  },
  {
   "cell_type": "markdown",
   "id": "02239ee4-26bb-410e-bccb-0216a330db1f",
   "metadata": {},
   "source": [
    "<br>\n",
    "\n",
    "## Distributions  \n",
    "***\n",
    "I will now proceed to explain the use and purpose of five different distributions available in \n",
    "numpy.random. A distribution can be defined as a function that shows the possible values for a variable \n",
    "and how often or likely it will occur. Numpy.random offers a wide variety of distribution options when \n",
    "generating a random set of data. These range from the ubiquitous (normal ,uniform) to the more obscure \n",
    "(binomial, Poisson). Each distribution can be called when generating a random set of data using Numpy. \n",
    "These random, or pseudorandom, datasets can then be analysed and applied to real world scenarios to \n",
    "help build predictive models, determine probabilities or to help model real world data and compare with \n",
    "the random data"
   ]
  },
  {
   "cell_type": "code",
   "execution_count": 15,
   "id": "918ddb4f-e39d-4adb-8919-023aa05ca262",
   "metadata": {},
   "outputs": [
    {
     "data": {
      "image/png": "[encoded data removed]",
      "text/plain": [
       "<Figure size 432x288 with 1 Axes>"
      ]
     },
     "metadata": {
      "needs_background": "light"
     },
     "output_type": "display_data"
    }
   ],
   "source": [
    "# Adapted code from Official Documentation\n",
    "# Mean of 100, Standard Deviation of 5, 1000 datapoints \n",
    "data = np.random.normal(100, 5, 1000)\n",
    "\n",
    "plt.hist (data)\n",
    "plt.show()"
   ]
  },
  {
   "cell_type": "markdown",
   "id": "52e24b8a-9964-4ec3-bd0a-35d58cdfce89",
   "metadata": {},
   "source": [
    "<br>\n",
    "\n",
    "### Normal / Gaussian Distribution\n",
    "***\n",
    "The normal distribution of data is the most common. In a normal distribution all data is centered, or symmetrical, around  the mean, the further from the mean the variable is, the less likely it is to occur. Data is visually \n",
    "represented as a “bell-shaped curve” where the highest probability of a variable occurring coincides with \n",
    "the top of the curve i.e. the mean. The name Gaussian comes from the German mathematician and \n",
    "physicist Carl Friedrich Gauss [6] who first suggested the normal distribution of data in the \n",
    "early 1800s, although there is some dispute as to who first developed the theory for this distribution [7].  \n",
    "\n",
    "In a normal distribution the data is centered around the mean value given and the mean is the most likely variable in the data. The spread of the data, or variance, is decided by a factor called the standard deviation. The standard deviation is a figure given to indicate how the data varies around the mean. In a normally distributed set of data 99.7% of all variables will be found within the standard deviation multiplied by a factor of three either side of the mean. In the simple example given above there is a mean value of 100, and a standard deviation of 5. This means that 99.7% of all variable will lie in the range 100 +/- (3 x 5) i.e. 85 to 115. This is backed up by visually assessing the plot where there is zero frequency below 85 and a slight bar seen above 115. Re-plotting the data with a different standard deviation value of 1, for example, confirms this:"
   ]
  },
  {
   "cell_type": "code",
   "execution_count": 16,
   "id": "918d3734-93da-467a-8e4c-a661b65d6299",
   "metadata": {},
   "outputs": [
    {
     "data": {
      "image/png": "[encoded data removed]",
      "text/plain": [
       "<Figure size 432x288 with 1 Axes>"
      ]
     },
     "metadata": {
      "needs_background": "light"
     },
     "output_type": "display_data"
    }
   ],
   "source": [
    "# Changing standard deviation to 1\n",
    "data = np.random.normal(100, 1, 1000)\n",
    "\n",
    "plt.hist (data)\n",
    "plt.show()"
   ]
  },
  {
   "cell_type": "markdown",
   "id": "86efacc1-12ee-4d4c-9361-8692cb5e6ca5",
   "metadata": {},
   "source": [
    "There are some real world examples of data that is can be normally distributed (height of a population, shoe size, IQ scores etc.). The reason for this data being normally distributed is based on the central limit theorem. The central limit theorem states that if you have a sufficently large sample size of independent variables, the distribution of the data will approximately assume a normal shape, centred around the mean. The key word in this definition is \"approximately\". The data will appear as normal distribution even if it is not truly normally distributed. [8]  \n",
    "A great example of this central limit theorem is obsserved when rolling a standard dice and recording the results given. The more times the dice is rolled the more data we have, and the more the plots of this data appear to be normally distributed. I will demonstrate this with a few lines of code below."
   ]
  },
  {
   "cell_type": "code",
   "execution_count": 28,
   "id": "560bf467-13b2-48bb-bc0b-f6685591d311",
   "metadata": {},
   "outputs": [
    {
     "data": {
      "text/plain": [
       "<function matplotlib.pyplot.show(close=None, block=None)>"
      ]
     },
     "execution_count": 28,
     "metadata": {},
     "output_type": "execute_result"
    },
    {
     "data": {
      "image/png": "[encoded data removed]",
      "text/plain": [
       "<Figure size 432x288 with 1 Axes>"
      ]
     },
     "metadata": {
      "needs_background": "light"
     },
     "output_type": "display_data"
    }
   ],
   "source": [
    "# Generating random integers between 1 and 6, 10 variables requested\n",
    "rng = np.random.default_rng()\n",
    "x = rng.integers(1, 7, size=10)\n",
    "plt.hist(x)\n",
    "plt.show"
   ]
  },
  {
   "cell_type": "markdown",
   "id": "8c0067cf-8e0a-4536-96ba-cf572abc2b5b",
   "metadata": {},
   "source": [
    "Intially 10 rolls of the dice are performed, no obvious distribution is observed. Now increase this to 1000:\n"
   ]
  },
  {
   "cell_type": "code",
   "execution_count": 20,
   "id": "19518511-2d31-4890-aeea-c3e2129e3c87",
   "metadata": {},
   "outputs": [
    {
     "data": {
      "text/plain": [
       "<function matplotlib.pyplot.show(close=None, block=None)>"
      ]
     },
     "execution_count": 20,
     "metadata": {},
     "output_type": "execute_result"
    },
    {
     "data": {
      "image/png": "[encoded data removed]",
      "text/plain": [
       "<Figure size 432x288 with 1 Axes>"
      ]
     },
     "metadata": {
      "needs_background": "light"
     },
     "output_type": "display_data"
    }
   ],
   "source": [
    "rng = np.random.default_rng()\n",
    "x = rng.integers(1, 7, size=1000)\n",
    "plt.hist(x)\n",
    "plt.show"
   ]
  },
  {
   "cell_type": "markdown",
   "id": "0fbf9125-38a8-4ca0-8758-b2b00a980e00",
   "metadata": {},
   "source": [
    "The data appears to be uniformly distributed, which is what we would expect if the dice was not weighted. i.e. each number has the same chance of appearing when a dice is rolled. However, suppose we rolled two dice 1000 times and recorded the average"
   ]
  },
  {
   "cell_type": "code",
   "execution_count": 31,
   "id": "cbbfde27-aeda-4ecb-ad7a-f68dd3d8f716",
   "metadata": {},
   "outputs": [
    {
     "data": {
      "text/plain": [
       "<function matplotlib.pyplot.show(close=None, block=None)>"
      ]
     },
     "execution_count": 31,
     "metadata": {},
     "output_type": "execute_result"
    },
    {
     "data": {
      "image/png": "[encoded data removed]",
      "text/plain": [
       "<Figure size 432x288 with 1 Axes>"
      ]
     },
     "metadata": {
      "needs_background": "light"
     },
     "output_type": "display_data"
    }
   ],
   "source": [
    "# Adapted from example in [9]\n",
    "import statistics\n",
    "rng = np.random.default_rng()\n",
    "x = rng.integers(1, 7, size=1000)\n",
    "y = rng.integers(1, 7, size=1000) \n",
    "Averages =  [statistics.mean(z) for z in zip(x, y)]\n",
    "plt.hist(Averages)\n",
    "plt.show"
   ]
  },
  {
   "cell_type": "markdown",
   "id": "2149f69b-9e05-4162-9049-581b979b035b",
   "metadata": {},
   "source": [
    "Even though we know that the probability of rolling a dice is 1 in 6, and the data should not be normally distributed, by increasing the number of rolls and averaging two dice the data tends towards a normal distribution. Suppose we rolled 5 dice and averaged the results:"
   ]
  },
  {
   "cell_type": "code",
   "execution_count": 42,
   "id": "32a787ba-419d-4525-894a-370104f45324",
   "metadata": {},
   "outputs": [
    {
     "data": {
      "text/plain": [
       "<function matplotlib.pyplot.show(close=None, block=None)>"
      ]
     },
     "execution_count": 42,
     "metadata": {},
     "output_type": "execute_result"
    },
    {
     "data": {
      "image/png": "[encoded data removed]",
      "text/plain": [
       "<Figure size 432x288 with 1 Axes>"
      ]
     },
     "metadata": {},
     "output_type": "display_data"
    }
   ],
   "source": [
    "rng = np.random.default_rng()\n",
    "# Adding five randomly generated lists and averaging to simulate 5 dice being rolled 1000 times\n",
    "a = rng.integers(1, 7, size=1000)\n",
    "b = rng.integers(1, 7, size=1000) \n",
    "c = rng.integers(1, 7, size=1000)\n",
    "d = rng.integers(1, 7, size=1000)\n",
    "e = rng.integers(1, 7, size=1000) \n",
    "Averages =  [statistics.mean(z) for z in zip(a, b, c, d, e)]\n",
    "\n",
    "# Formatting to improve appearance of histogram\n",
    "plt.style.use('fivethirtyeight')\n",
    "plt.title ('Histogram - Average Dice Results', size=20)\n",
    "plt.xlabel('Dice Results', size=15)\n",
    "plt.ylabel('Frequency', size = 15)\n",
    "plt.xticks(fontsize=15)\n",
    "plt.yticks(fontsize=15)\n",
    "plt.grid(True)\n",
    "plt.hist(Averages, color = 'g')\n",
    "plt.show"
   ]
  },
  {
   "cell_type": "markdown",
   "id": "e4cb67b2-5a5b-417a-8cbf-871e1ae42b83",
   "metadata": {},
   "source": [
    "The data is clearly normally distributed now, even though we know that the results for rolling a dice are uniformly distributed. This is clear evidence of the central limit theorem where data approximates towards normal distribution if the sample size is increased and the variables are independent.  \n",
    "Other real world examples of normal distribution are weight of newboern babies, average age or retirement of professional athletes etc, height of a population etc. Again, it is likely that these \"normal\" distributions are likely to only appear normal due to the central limit theorem."
   ]
  },
  {
   "cell_type": "markdown",
   "id": "8a7f0b49-19e5-4f85-8007-b768c18e26a0",
   "metadata": {},
   "source": [
    "<br>\n",
    "\n",
    "### Uniform Distribution"
   ]
  },
  {
   "cell_type": "code",
   "execution_count": null,
   "id": "93afbb40-15a3-4b0e-9b01-2249ab8b1c10",
   "metadata": {},
   "outputs": [],
   "source": []
  },
  {
   "cell_type": "code",
   "execution_count": null,
   "id": "f8955fb9-6ad9-4c2a-80cf-64209ec109d5",
   "metadata": {},
   "outputs": [],
   "source": []
  },
  {
   "cell_type": "code",
   "execution_count": null,
   "id": "9ae282fb-2450-4eef-8f0d-04679cd43062",
   "metadata": {},
   "outputs": [],
   "source": []
  },
  {
   "cell_type": "code",
   "execution_count": null,
   "id": "72bd453d-ba5c-4173-93a1-e0143b005139",
   "metadata": {},
   "outputs": [],
   "source": []
  },
  {
   "cell_type": "code",
   "execution_count": null,
   "id": "0a974baa-c500-4035-a80b-b69c19814b5a",
   "metadata": {},
   "outputs": [],
   "source": []
  },
  {
   "cell_type": "code",
   "execution_count": null,
   "id": "b9d85aaa-6c80-41e1-9bc0-988f62e3c1c6",
   "metadata": {},
   "outputs": [],
   "source": []
  },
  {
   "cell_type": "markdown",
   "id": "30c72646-3a9d-4704-946b-82a8ad0c01a6",
   "metadata": {},
   "source": [
    "## References\n",
    "[1] https://numpy.org/doc/stable/user/whatisnumpy.html  \n",
    "[2] https://en.wikipedia.org/wiki/Travis_Oliphant  \n",
    "[3] https://www.howtogeek.com/183051/htg-explains-how-computers-generate-random-numbers/  \n",
    "[4] https://en.wikipedia.org/wiki/Permutation  \n",
    "[5] https://www.bbc.com/news/world-europe-57184977  \n",
    "[6] https://en.wikipedia.org/wiki/Carl_Friedrich_Gauss  \n",
    "[7] https://en.wikipedia.org/wiki/Normal_distribution  \n",
    "[8] https://builtin.com/data-science/understanding-central-limit-theorem\n",
    "[9] https://stackoverflow.com/questions/43436044/mean-value-of-each-element-in-multiple-lists-python  \n",
    "[10]"
   ]
  },
  {
   "cell_type": "markdown",
   "id": "1c2097ad-e6cb-4e21-ad56-14dd54d564a6",
   "metadata": {},
   "source": [
    "***\n",
    "# End"
   ]
  }
 ],
 "metadata": {
  "kernelspec": {
   "display_name": "Python 3",
   "language": "python",
   "name": "python3"
  },
  "language_info": {
   "codemirror_mode": {
    "name": "ipython",
    "version": 3
   },
   "file_extension": ".py",
   "mimetype": "text/x-python",
   "name": "python",
   "nbconvert_exporter": "python",
   "pygments_lexer": "ipython3",
   "version": "3.8.8"
  }
 },
 "nbformat": 4,
 "nbformat_minor": 5
}
