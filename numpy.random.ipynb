{
 "cells": [
  {
   "cell_type": "markdown",
   "id": "099285a5",
   "metadata": {},
   "source": [
    "# The numpy.random package\n",
    "\n",
    "## Author: Ross Downey (G00398275)\n",
    "\n",
    "## Programming for Data Analysis 2021\n",
    "\n",
    "### numpy.random.ipynb\n",
    "***\n",
    "[Official Documentation](https://numpy.org/doc/stable/reference/random/index.html)"
   ]
  },
  {
   "cell_type": "markdown",
   "id": "47c8f02f-1e63-4e97-99d6-fe935460507b",
   "metadata": {},
   "source": [
    "![](https://neuraspike.com/wp-content/uploads/2020/11/thumbnail_numpy_tutorial_logo-neuraspike.png.png)"
   ]
  },
  {
   "cell_type": "code",
   "execution_count": 1,
   "id": "2a48861a-1791-4797-b2a5-bca065b2389b",
   "metadata": {},
   "outputs": [],
   "source": [
    "# Importing appropriate python packages for coding\n",
    "import numpy as np\n",
    "import matplotlib.pyplot as plt"
   ]
  },
  {
   "cell_type": "markdown",
   "id": "df42de09-2e67-4b2a-9d24-103957883200",
   "metadata": {},
   "source": [
    "## Aim\n",
    "The aim of this Jupyter notebook is to explain the overall purpose of the numpy.random package in Python. This notebook will provide an explanation of the overall purpose of the numpy.random package. The \"Simple Random Data\" and \"Permutations\" functions will be explained with coded examples and plots. In addition five \"Distributions\" functions will be explained. The five distributions to be covered are Uniform, Normal, Logistic, Poisson, and, Gamma. Also, the use of seeds in generating pseudorandom numbers will be discussed with coding and plotting examples for clear explanations."
   ]
  },
  {
   "cell_type": "markdown",
   "id": "07798fc4-ecb7-4b97-817b-ed46e78895ca",
   "metadata": {},
   "source": [
    "## Overall Purpose\n",
    "The overall purpose of the numpy.random package in Python is to generate pseudorandom numbers based on different mathematical functions. These pseudo random numbers can subsequently be used to perform a wide variety of statistical analyses and operations on numerical data such as sorting, basic linear algebra, random simulation etc. [1]  \n",
    "Numpy stands for 'Numerical Python'. Travis Oliphant, an American data scientist, (along with other contributors) created Numpy in 2005 [2] as more modern replacement, suitable for newer programming languages, for Matlab.  \n",
    "As previously stated there are a wide variety of mathematical functions that can be performed using Numpy. For the purposes of this notebook the specific function covered here will be the numpy.random package. The generation of pseudorandom numbers or data has a large number of real world applications such as computer games development, online gambling games, crytography (such as password generation) to name a few. In these cases it is crucial that the numbers generated are truely random (or appear to be so) so that, for example, hackers could not guess a password, or defraud an online gambling website.  \n",
    "![](https://troymedia.com/wp-content/uploads/sites/6/2020/10/slots650.jpg)  \n",
    "\n",
    "In order for data to be generated randomly (or appear to be generated randomly) a computer needs a procedure to do so that is not evident to an end user. For example, if a hacker was trying to decrpyt a password randomly generated to break into a website / e mail inbox / online bank account etc. the encryption method needs to hidden from the end user. If the hacker was aware of the procedure that the machine used to generate these pseudorandom numbers then it is possible they could replicate the password by copying what the computer is doing.  \n",
    "Consequently, the procedure used by the computer to generate this random data needs to be highly effective and extremely difficult to replicate. The default method used by numpy.random to \"seed\" this random data is PCG64 (Permuted Congruential Generator - 64bit). This will be discussed further in the section on \"Seeds\" in this notebook.  \n",
    "Another use of this psuedorandom data is in the creation of statistcial models in data analytics. These randomly created statistical models (based on certain mathematical functions) can be used for the purposes of investigating real world data with great effect.[3]  \n",
    "\n"
   ]
  },
  {
   "cell_type": "markdown",
   "id": "e229fd50-a518-49c6-a5d8-96b66a41787d",
   "metadata": {},
   "source": [
    "## Simple Random Data\n",
    "***\n",
    "The basic function of simple random data is simply to generate pseudorandom numbers in Python. Consider the below example:"
   ]
  },
  {
   "cell_type": "code",
   "execution_count": 2,
   "id": "1098edab-394f-4d60-b03e-0cfec6d61f98",
   "metadata": {},
   "outputs": [
    {
     "data": {
      "text/plain": [
       "array([5, 6, 2, 5, 9, 7, 8, 9, 3, 9], dtype=int64)"
      ]
     },
     "execution_count": 2,
     "metadata": {},
     "output_type": "execute_result"
    }
   ],
   "source": [
    "# Adapted from Numpy Official Documentation Example\n",
    "rng = np.random.default_rng()\n",
    "rng.integers(1, 10, size=10)"
   ]
  },
  {
   "cell_type": "markdown",
   "id": "c683c60c-23eb-41da-bfa8-a37db7fdb140",
   "metadata": {},
   "source": [
    "The code above has generated 10 random numbers (Size 10), in the range 1-10 (1, 10, in the round brackets), and is of data type int64 (the default option). Re-running the code will produce a different array of 10 integers. Amending the size to a different number will produce that number in a different array. See below."
   ]
  },
  {
   "cell_type": "code",
   "execution_count": 3,
   "id": "d1ba01f4-9449-4293-be1e-8dec8378a2f9",
   "metadata": {},
   "outputs": [
    {
     "data": {
      "text/plain": [
       "array([9, 4, 3, 6, 8, 4, 9, 1, 8, 5, 3, 4, 8, 8, 8, 7, 3, 7, 7, 3, 1, 3,\n",
       "       9, 8, 5, 2, 6, 5, 2, 1, 1, 1, 6, 2, 4, 3, 2, 4, 7, 8, 2, 1, 8, 4,\n",
       "       9, 1, 1, 9, 7, 7, 1, 7, 6, 7, 6, 6, 6, 2, 2, 8, 6, 5, 3, 9, 7, 6,\n",
       "       9, 4, 9, 6, 5, 8, 5, 7, 6, 7, 3, 8, 1, 6, 5, 6, 6, 4, 5, 7, 5, 4,\n",
       "       6, 2, 8, 9, 4, 1, 8, 2, 2, 7, 4, 5], dtype=int64)"
      ]
     },
     "execution_count": 3,
     "metadata": {},
     "output_type": "execute_result"
    }
   ],
   "source": [
    "rng.integers(1, 10, size=100)"
   ]
  },
  {
   "cell_type": "markdown",
   "id": "3085c6e9-3c27-46d2-93ff-f9f1e6cc74a9",
   "metadata": {},
   "source": [
    "Another option is to produce matrices instead of one-dimensional arrays. The below code will produce 10 different arrays in the range 1-10 in a two-dimensional matrix:"
   ]
  },
  {
   "cell_type": "code",
   "execution_count": 4,
   "id": "7b9cdf4e-f41f-4e2e-9dd7-91f7d83e7bb0",
   "metadata": {},
   "outputs": [
    {
     "data": {
      "text/plain": [
       "array([[2, 6, 2, 1, 2, 3, 7, 1, 5, 4],\n",
       "       [7, 1, 1, 9, 7, 6, 4, 4, 1, 4],\n",
       "       [2, 1, 9, 1, 1, 7, 2, 7, 9, 3],\n",
       "       [8, 4, 2, 1, 6, 6, 5, 6, 6, 7],\n",
       "       [1, 6, 2, 2, 2, 3, 2, 3, 7, 9],\n",
       "       [1, 7, 9, 3, 8, 9, 9, 3, 3, 3],\n",
       "       [2, 7, 7, 7, 5, 6, 6, 9, 3, 3],\n",
       "       [7, 9, 6, 7, 8, 4, 6, 8, 6, 4],\n",
       "       [2, 9, 6, 2, 9, 4, 3, 3, 1, 1],\n",
       "       [1, 5, 9, 9, 4, 1, 1, 9, 2, 8]], dtype=int64)"
      ]
     },
     "execution_count": 4,
     "metadata": {},
     "output_type": "execute_result"
    }
   ],
   "source": [
    "rng.integers(1, 10, size=(10, 10))"
   ]
  },
  {
   "cell_type": "markdown",
   "id": "8ea36a7c-18c4-4904-b5e5-f2ae20126410",
   "metadata": {},
   "source": [
    "An increase of size in this example leads to a large amount of data with relative ease. Note jupyter will only display the first three and last three arrays in this case but there are 1000 arrays"
   ]
  },
  {
   "cell_type": "code",
   "execution_count": 5,
   "id": "ce2b7815-9063-4f10-b045-3d86880b8b64",
   "metadata": {},
   "outputs": [
    {
     "data": {
      "text/plain": [
       "array([[3, 2, 7, ..., 7, 7, 2],\n",
       "       [6, 2, 1, ..., 7, 9, 7],\n",
       "       [2, 9, 8, ..., 2, 4, 6],\n",
       "       ...,\n",
       "       [1, 6, 2, ..., 2, 7, 9],\n",
       "       [4, 9, 3, ..., 1, 6, 5],\n",
       "       [3, 2, 3, ..., 6, 2, 4]], dtype=int64)"
      ]
     },
     "execution_count": 5,
     "metadata": {},
     "output_type": "execute_result"
    }
   ],
   "source": [
    "rng.integers(1, 10, size=(1000, 1000))"
   ]
  },
  {
   "cell_type": "markdown",
   "id": "ec93da5f-1637-4682-a446-c7ea305efc72",
   "metadata": {},
   "source": [
    "Once the randomly generated data starts to get large like in example above a better approach is grpahically plot the data. This allows for easier comprehension of large datasets by the end user."
   ]
  },
  {
   "cell_type": "code",
   "execution_count": 6,
   "id": "02428da6-dc46-4299-b0fa-5eed1db4f38d",
   "metadata": {},
   "outputs": [
    {
     "data": {
      "text/plain": [
       "(array([ 95.,  91., 111., 103., 105.,  97.,  99., 107.,  83., 109.]),\n",
       " array([0. , 0.9, 1.8, 2.7, 3.6, 4.5, 5.4, 6.3, 7.2, 8.1, 9. ]),\n",
       " <BarContainer object of 10 artists>)"
      ]
     },
     "execution_count": 6,
     "metadata": {},
     "output_type": "execute_result"
    },
    {
     "data": {
      "image/png": "[encoded data removed]",
      "text/plain": [
       "<Figure size 432x288 with 1 Axes>"
      ]
     },
     "metadata": {
      "needs_background": "light"
     },
     "output_type": "display_data"
    }
   ],
   "source": [
    "x = rng.integers(10, size=(1000))\n",
    "plt.hist(x)"
   ]
  },
  {
   "cell_type": "markdown",
   "id": "3f6d48e1-ab20-4af4-945a-f62991c73255",
   "metadata": {},
   "source": [
    "The histogram above provides an easier to understand visualisation of the data. The random data generator was requested to give us 1000 values in the range 0-10 in the code. Visualizing this as pure integers is quite difficult for humans. Plotting the histogram quickly, and accurately, tells us that there are 80 instances of 0, 100 instances of 1 and so on. Increasing the sample size will give us a more uniform distribution as simply there are more data points taken."
   ]
  },
  {
   "cell_type": "code",
   "execution_count": 7,
   "id": "7bec42a0-485e-4a52-a7fc-979814dd41ab",
   "metadata": {},
   "outputs": [
    {
     "data": {
      "text/plain": [
       "(array([10081., 10125.,  9866.,  9986.,  9930., 10101.,  9967.,  9790.,\n",
       "        10041., 10113.]),\n",
       " array([0. , 0.9, 1.8, 2.7, 3.6, 4.5, 5.4, 6.3, 7.2, 8.1, 9. ]),\n",
       " <BarContainer object of 10 artists>)"
      ]
     },
     "execution_count": 7,
     "metadata": {},
     "output_type": "execute_result"
    },
    {
     "data": {
      "image/png": "[encoded data removed]",
      "text/plain": [
       "<Figure size 432x288 with 1 Axes>"
      ]
     },
     "metadata": {
      "needs_background": "light"
     },
     "output_type": "display_data"
    }
   ],
   "source": [
    "x = rng.integers(10, size=(100000))\n",
    "plt.hist(x)"
   ]
  },
  {
   "cell_type": "markdown",
   "id": "84e1c886-f0e0-45d5-a8f0-ccec8802debe",
   "metadata": {},
   "source": [
    "The above example shows that all numbers in our range 0-10 are being randomly genereated at the same frequency. The default distribution in numpy.random is uniform. This means that all integers have an equal chance of being randomly outputted. i.e. in the above case 2 is as likely to be outputted as 8, for example. In the real world data is rarely uniformly distributed. There are a large number of mathematical distributions possible, and some of these will be discussed below in this notebook.  \n",
    "A practical use of this simple random generator would be in the Irish lottery (Lotto). This lottery requires the generation of 7 random numbers in the range 1-47. While it's done (theatrically!) in a television studio, under external supervision, with the random selection of numbered balls by a machine, it could also be done with a simple line of code using numpy.random:"
   ]
  },
  {
   "cell_type": "code",
   "execution_count": 8,
   "id": "f8b5b048-d753-426f-9764-4f3994b2a962",
   "metadata": {},
   "outputs": [
    {
     "data": {
      "text/plain": [
       "array([35,  3, 33, 21, 21, 43, 26], dtype=int64)"
      ]
     },
     "execution_count": 8,
     "metadata": {},
     "output_type": "execute_result"
    }
   ],
   "source": [
    "rng.integers(1, 47, size=7)"
   ]
  },
  {
   "cell_type": "markdown",
   "id": "4adc91ec-0109-4bcc-a708-78a98170b856",
   "metadata": {},
   "source": [
    "The above code produces the first six numbers required for the lotto draw, and the seventh 'bonus' ball also needed for further prizes. Re-running the code produces different results each time. As the integers generated are randomly outputted this could be used to produce the lotto numbers each week but I doubt the viewing public would tune in, or trust the data being generated for that matter...  "
   ]
  },
  {
   "cell_type": "markdown",
   "id": "24a8eb16-62e7-46a9-b177-43e7dcf31348",
   "metadata": {},
   "source": [
    "## Permutations\n",
    "***\n",
    "Another function to be discussed in the numpy.random package is the permutations function. Permutation of a set of data involves the order in which the data is placed, or re-arrangement of a set of data. [4] The permutations function in numpy.random allows the end user to re-arrange the order in which a set of data is displayed. Consider the simple example below, adapted from the official documentation:"
   ]
  },
  {
   "cell_type": "code",
   "execution_count": 9,
   "id": "2480433f-d684-4707-b943-14fe4b46499d",
   "metadata": {},
   "outputs": [
    {
     "data": {
      "text/plain": [
       "array([1, 2, 3, 4, 5, 6, 7, 8, 9])"
      ]
     },
     "execution_count": 9,
     "metadata": {},
     "output_type": "execute_result"
    }
   ],
   "source": [
    "x = np.arange(1, 10)\n",
    "x"
   ]
  },
  {
   "cell_type": "code",
   "execution_count": 10,
   "id": "f3a94202-5b2a-4268-a720-9595c0f39428",
   "metadata": {},
   "outputs": [
    {
     "data": {
      "text/plain": [
       "array([6, 4, 5, 3, 1, 8, 2, 7, 9])"
      ]
     },
     "execution_count": 10,
     "metadata": {},
     "output_type": "execute_result"
    }
   ],
   "source": [
    "y = rng.permuted(x, out=x)\n",
    "x"
   ]
  },
  {
   "cell_type": "markdown",
   "id": "fcd878ac-494e-465b-99d6-8e5b530c28a0",
   "metadata": {},
   "source": [
    "The original array is in the order 1 to 10. Applying the permutation to the array re-arranges the order randomly. \n",
    "Re-runnig the previous cell re-arranges the array in a different order each time.  \n",
    "The permutations function can also be applied across two-dimensional data:"
   ]
  },
  {
   "cell_type": "code",
   "execution_count": 11,
   "id": "675bc9ab-8d76-4d56-b724-a9d4bc64554a",
   "metadata": {},
   "outputs": [
    {
     "data": {
      "text/plain": [
       "array([[ 0,  1,  2,  3,  4],\n",
       "       [ 5,  6,  7,  8,  9],\n",
       "       [10, 11, 12, 13, 14],\n",
       "       [15, 16, 17, 18, 19]])"
      ]
     },
     "execution_count": 11,
     "metadata": {},
     "output_type": "execute_result"
    }
   ],
   "source": [
    "x = np.arange(0, 20).reshape(4, 5)\n",
    "# Splitting the data into 4 rows, taken from official documentation\n",
    "x"
   ]
  },
  {
   "cell_type": "code",
   "execution_count": 12,
   "id": "ec0c64c7-2721-41b1-9f42-f02115a94371",
   "metadata": {},
   "outputs": [
    {
     "data": {
      "text/plain": [
       "array([[ 1,  4,  2,  0,  3],\n",
       "       [ 6,  7,  8,  9,  5],\n",
       "       [11, 10, 12, 13, 14],\n",
       "       [16, 18, 15, 17, 19]])"
      ]
     },
     "execution_count": 12,
     "metadata": {},
     "output_type": "execute_result"
    }
   ],
   "source": [
    "rng.permuted(x, out = x, axis=1)\n",
    "x"
   ]
  },
  {
   "cell_type": "markdown",
   "id": "e9c2cadb-d7e4-45a1-9922-c154e9c1543c",
   "metadata": {},
   "source": [
    "The original array is re-arranged, but the integers remain in their original rows."
   ]
  },
  {
   "cell_type": "code",
   "execution_count": 13,
   "id": "148250f0-13ef-4b1a-94cf-91c25d68c343",
   "metadata": {},
   "outputs": [
    {
     "data": {
      "text/plain": [
       "array([[11, 10,  2,  0,  3],\n",
       "       [ 6, 18,  8, 17, 14],\n",
       "       [16,  4, 15,  9, 19],\n",
       "       [ 1,  7, 12, 13,  5]])"
      ]
     },
     "execution_count": 13,
     "metadata": {},
     "output_type": "execute_result"
    }
   ],
   "source": [
    "rng.permuted(x, out = x, axis=0)\n",
    "x"
   ]
  },
  {
   "cell_type": "markdown",
   "id": "094aa47e-f514-443f-95ff-5cda9b177be1",
   "metadata": {},
   "source": [
    "Converting the axis value to zero allows for full permutation across the four rows.  \n",
    "Permutations can also be performed across other sets of data that aren't generated by numpy, also, the list does not have to be numerical to be permuted. In this case the shuffle command is used."
   ]
  },
  {
   "cell_type": "code",
   "execution_count": 14,
   "id": "99fcaa90-6c82-46e7-9ff9-48adacac8628",
   "metadata": {},
   "outputs": [
    {
     "data": {
      "text/plain": [
       "['Bananas',\n",
       " 'Lemons',\n",
       " 'Melons',\n",
       " 'Figs',\n",
       " 'Watermelons',\n",
       " 'Apples',\n",
       " 'Grapes',\n",
       " 'Oranges']"
      ]
     },
     "execution_count": 14,
     "metadata": {},
     "output_type": "execute_result"
    }
   ],
   "source": [
    "List = ['Apples', 'Bananas', 'Figs', 'Grapes', 'Lemons', 'Melons', 'Oranges', 'Watermelons']\n",
    "rng.shuffle(List)\n",
    "List"
   ]
  },
  {
   "cell_type": "markdown",
   "id": "c8e4955b-64bd-4955-afef-731693cfa81b",
   "metadata": {},
   "source": [
    "The main application of permutations in terms of computer science is in the field of crytography and encryption. Having the ability to send encrypted data across the internet is crucial. If data is not secured, particularly personal data, it can lead to disastrous consequences, either personally or financially."
   ]
  },
  {
   "cell_type": "markdown",
   "id": "466cca30-8344-429b-ad94-ba6c0b42c622",
   "metadata": {},
   "source": [
    "![](https://directcrack.info/wp-content/uploads/2020/12/GiliSoft-USB-Lock-Crack10.0-Latest-Version-Free-Download.png)"
   ]
  },
  {
   "cell_type": "markdown",
   "id": "4fbb8f4c-f77f-4c09-8d80-3896bd004062",
   "metadata": {},
   "source": [
    "Consider the recent hacking of the people's medical data in Ireland. As people's personal data was not properly secured, hackers were able to access the HSE's online system in a ransomware style attack, and consequently release people's personal details across the internet. [5] A properly encrypted and secure system would not have allowed this hack to happen.  \n",
    "Being able to send data securely across the internet is essential in the modern world. The encryption and decryption of data allows for this to occur. Permutation of data by programs such as the numpy.random package in Python can be used to encrpyt data, send it across the web, and decrypt it once it is received. "
   ]
  },
  {
   "cell_type": "code",
   "execution_count": null,
   "id": "04eaa800-08a3-4b07-b6db-fbef381e7c96",
   "metadata": {},
   "outputs": [],
   "source": []
  },
  {
   "cell_type": "code",
   "execution_count": null,
   "id": "d63b1baa-fa97-486e-bade-647287b350cd",
   "metadata": {},
   "outputs": [],
   "source": []
  },
  {
   "cell_type": "code",
   "execution_count": null,
   "id": "f0ef23e2-afc1-4cf5-8a8a-f4a249ec1ad9",
   "metadata": {},
   "outputs": [],
   "source": []
  },
  {
   "cell_type": "code",
   "execution_count": null,
   "id": "0477e3de-6f22-4211-8f1b-07c1c746024a",
   "metadata": {},
   "outputs": [],
   "source": []
  },
  {
   "cell_type": "code",
   "execution_count": null,
   "id": "918d3734-93da-467a-8e4c-a661b65d6299",
   "metadata": {},
   "outputs": [],
   "source": []
  },
  {
   "cell_type": "code",
   "execution_count": null,
   "id": "e767618c-d792-445e-9e88-962fcf8889b3",
   "metadata": {},
   "outputs": [],
   "source": []
  },
  {
   "cell_type": "code",
   "execution_count": null,
   "id": "560bf467-13b2-48bb-bc0b-f6685591d311",
   "metadata": {},
   "outputs": [],
   "source": []
  },
  {
   "cell_type": "code",
   "execution_count": null,
   "id": "f669ad5a-f380-4723-9818-bfc3de3101a5",
   "metadata": {},
   "outputs": [],
   "source": []
  },
  {
   "cell_type": "code",
   "execution_count": null,
   "id": "19518511-2d31-4890-aeea-c3e2129e3c87",
   "metadata": {},
   "outputs": [],
   "source": []
  },
  {
   "cell_type": "markdown",
   "id": "30c72646-3a9d-4704-946b-82a8ad0c01a6",
   "metadata": {},
   "source": [
    "## References\n",
    "[1] https://numpy.org/doc/stable/user/whatisnumpy.html  \n",
    "[2] https://en.wikipedia.org/wiki/Travis_Oliphant  \n",
    "[3] https://www.howtogeek.com/183051/htg-explains-how-computers-generate-random-numbers/  \n",
    "[4] https://en.wikipedia.org/wiki/Permutation  \n",
    "[5] https://www.bbc.com/news/world-europe-57184977  \n",
    "[6] \n",
    "[7]\n",
    "[8]\n",
    "[9]\n",
    "[10]"
   ]
  },
  {
   "cell_type": "markdown",
   "id": "1c2097ad-e6cb-4e21-ad56-14dd54d564a6",
   "metadata": {},
   "source": [
    "***\n",
    "# End"
   ]
  }
 ],
 "metadata": {
  "kernelspec": {
   "display_name": "Python 3",
   "language": "python",
   "name": "python3"
  },
  "language_info": {
   "codemirror_mode": {
    "name": "ipython",
    "version": 3
   },
   "file_extension": ".py",
   "mimetype": "text/x-python",
   "name": "python",
   "nbconvert_exporter": "python",
   "pygments_lexer": "ipython3",
   "version": "3.8.8"
  }
 },
 "nbformat": 4,
 "nbformat_minor": 5
}
