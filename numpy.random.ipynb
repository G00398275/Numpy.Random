{
 "cells": [
  {
   "cell_type": "markdown",
   "id": "099285a5",
   "metadata": {},
   "source": [
    "# The numpy.random package\n",
    "\n",
    "## Author: Ross Downey (G00398275)\n",
    "\n",
    "## Programming for Data Analysis 2021\n",
    "\n",
    "### numpy.random.ipynb\n",
    "***\n",
    "[Official Documentation](https://numpy.org/doc/stable/reference/random/index.html)"
   ]
  },
  {
   "cell_type": "markdown",
   "id": "47c8f02f-1e63-4e97-99d6-fe935460507b",
   "metadata": {},
   "source": [
    "![](https://neuraspike.com/wp-content/uploads/2020/11/thumbnail_numpy_tutorial_logo-neuraspike.png.png)"
   ]
  },
  {
   "cell_type": "code",
   "execution_count": 1,
   "id": "2a48861a-1791-4797-b2a5-bca065b2389b",
   "metadata": {},
   "outputs": [],
   "source": [
    "# Importing appropriate python packages for coding\n",
    "import numpy as np\n",
    "import matplotlib.pyplot as plt"
   ]
  },
  {
   "cell_type": "markdown",
   "id": "df42de09-2e67-4b2a-9d24-103957883200",
   "metadata": {},
   "source": [
    "## Aim\n",
    "The aim of this Jupyter notebook is to explain the overall purpose of the numpy.random package in Python. This notebook will provide an explanation of the overall purpose of the numpy.random package. The \"Simple Random Data\" and \"Permutations\" functions will be explained with coded examples and plots. In addition five \"Distributions\" functions will be explained. The five distributions to be covered are Uniform, Normal, Logistic, Poisson, and, Gamma. Also, the use of seeds in generating pseudorandom numbers will be discussed with coding and plotting examples for clear explanations."
   ]
  },
  {
   "cell_type": "markdown",
   "id": "07798fc4-ecb7-4b97-817b-ed46e78895ca",
   "metadata": {},
   "source": [
    "## Overall Purpose\n",
    "The overall purpose of the numpy.random package in Python is to generate pseudorandom numbers based on different mathematical functions. These pseudo random numbers can subsequently be used to perform a wide variety of statistical analyses and operations on numerical data such as sorting, basic linear algebra, random simulation etc. [1]  \n",
    "Numpy stands for 'Numerical Python'. Travis Oliphant, an American data scientist, (along with other contributors) created Numpy in 2005 [2] as more modern replacement, suitable for newer programming languages, for Matlab.  \n",
    "As previously stated there are a wide variety of mathematical functions that can be performed using Numpy. For the purposes of this notebook the specific function covered here will be the numpy.random package. The generation of pseudorandom numbers or data has a large number of real world applications such as computer games development, online gambling games, crytography (such as password generation) to name a few. In these cases it is crucial that the numbers generated are truely random (or appear to be so) so that, for example, hackers could not guess a password, or defraud an online gambling website.  \n",
    "![](https://troymedia.com/wp-content/uploads/sites/6/2020/10/slots650.jpg)  \n",
    "\n",
    "In order for data to be generated randomly (or appear to be generated randomly) a computer needs a procedure to do so that is not evident to an end user. For example, if a hacker was trying to decrpyt a password randomly generated to break into a website / e mail inbox / online bank account etc. the encryption method needs to hidden from the end user. If the hacker was aware of the procedure that the machine used to generate these pseudorandom numbers then it is possible they could replicate the password by copying what the computer is doing.  \n",
    "Consequently, the procedure used by the computer to generate this random data needs to be highly effective and extremely difficult to replicate. The default method used by numpy.random to \"seed\" this random data is PCG64 (Permuted Congruential Generator - 64bit). This will be discussed further in the section on \"Seeds\" in this notebook.  \n",
    "Another use of this psuedorandom data is in the creation of statistcial models in data analytics. These randomly created statistical models (based on certain mathematical functions) can be used for the purposes of investigating real world data with great effect.[3]  \n",
    "\n"
   ]
  },
  {
   "cell_type": "markdown",
   "id": "e229fd50-a518-49c6-a5d8-96b66a41787d",
   "metadata": {},
   "source": [
    "## Simple Random Data\n",
    "***\n",
    "The basic function of simple random data is simply to generate pseudorandom numbers in Python. Consider the below example:"
   ]
  },
  {
   "cell_type": "code",
   "execution_count": 2,
   "id": "1098edab-394f-4d60-b03e-0cfec6d61f98",
   "metadata": {},
   "outputs": [
    {
     "data": {
      "text/plain": [
       "array([9, 6, 9, 3, 2, 4, 2, 5, 8, 2], dtype=int64)"
      ]
     },
     "execution_count": 2,
     "metadata": {},
     "output_type": "execute_result"
    }
   ],
   "source": [
    "# Adapted from Numpy Official Documentation Example\n",
    "rng = np.random.default_rng()\n",
    "rng.integers(1, 10, size=10)"
   ]
  },
  {
   "cell_type": "markdown",
   "id": "c683c60c-23eb-41da-bfa8-a37db7fdb140",
   "metadata": {},
   "source": [
    "The code above has generated 10 random numbers (Size 10), in the range 1-10 (1, 10, in the round brackets), and is of data type int64 (the default option). Re-running the code will produce a different array of 10 integers. Amending the size to a different number will produce that number in a different array. See below."
   ]
  },
  {
   "cell_type": "code",
   "execution_count": 3,
   "id": "d1ba01f4-9449-4293-be1e-8dec8378a2f9",
   "metadata": {},
   "outputs": [
    {
     "data": {
      "text/plain": [
       "array([3, 7, 5, 6, 1, 8, 5, 9, 4, 1, 1, 7, 6, 4, 1, 1, 7, 3, 4, 5, 3, 9,\n",
       "       4, 3, 2, 5, 1, 6, 9, 2, 9, 6, 9, 8, 9, 4, 4, 7, 3, 6, 4, 5, 3, 1,\n",
       "       7, 3, 8, 7, 3, 9, 5, 8, 9, 7, 8, 4, 1, 9, 2, 9, 5, 7, 1, 9, 1, 3,\n",
       "       1, 3, 1, 9, 7, 7, 5, 9, 9, 9, 6, 7, 1, 5, 8, 8, 1, 3, 5, 9, 3, 3,\n",
       "       7, 7, 1, 7, 8, 9, 8, 1, 7, 3, 9, 5], dtype=int64)"
      ]
     },
     "execution_count": 3,
     "metadata": {},
     "output_type": "execute_result"
    }
   ],
   "source": [
    "rng.integers(1, 10, size=100)"
   ]
  },
  {
   "cell_type": "markdown",
   "id": "3085c6e9-3c27-46d2-93ff-f9f1e6cc74a9",
   "metadata": {},
   "source": [
    "Another option is to produce matrices instead of one-dimensional arrays. The below code will produce 10 different arrays in the range 1-10 in a two-dimensional matrix:"
   ]
  },
  {
   "cell_type": "code",
   "execution_count": 4,
   "id": "7b9cdf4e-f41f-4e2e-9dd7-91f7d83e7bb0",
   "metadata": {},
   "outputs": [
    {
     "data": {
      "text/plain": [
       "array([[8, 2, 9, 5, 2, 5, 5, 9, 9, 5],\n",
       "       [3, 7, 7, 3, 4, 5, 5, 5, 2, 7],\n",
       "       [9, 4, 4, 1, 7, 7, 2, 6, 6, 8],\n",
       "       [2, 2, 1, 8, 8, 8, 6, 4, 7, 7],\n",
       "       [1, 3, 8, 1, 2, 9, 2, 9, 3, 6],\n",
       "       [1, 8, 8, 8, 9, 6, 6, 5, 4, 3],\n",
       "       [9, 4, 9, 6, 9, 9, 9, 1, 7, 7],\n",
       "       [6, 9, 1, 8, 1, 6, 4, 1, 4, 7],\n",
       "       [5, 5, 7, 3, 7, 7, 9, 4, 6, 5],\n",
       "       [5, 2, 9, 2, 6, 3, 3, 3, 4, 3]], dtype=int64)"
      ]
     },
     "execution_count": 4,
     "metadata": {},
     "output_type": "execute_result"
    }
   ],
   "source": [
    "rng.integers(1, 10, size=(10, 10))"
   ]
  },
  {
   "cell_type": "markdown",
   "id": "8ea36a7c-18c4-4904-b5e5-f2ae20126410",
   "metadata": {},
   "source": [
    "An increase of size in this example leads to a large amount of data with relative ease. Note jupyter will only display the first three and last three arrays in this case but there are 1000 arrays"
   ]
  },
  {
   "cell_type": "code",
   "execution_count": 5,
   "id": "ce2b7815-9063-4f10-b045-3d86880b8b64",
   "metadata": {},
   "outputs": [
    {
     "data": {
      "text/plain": [
       "array([[8, 6, 1, ..., 7, 3, 4],\n",
       "       [9, 7, 4, ..., 5, 8, 2],\n",
       "       [5, 4, 5, ..., 4, 6, 9],\n",
       "       ...,\n",
       "       [3, 1, 5, ..., 4, 3, 7],\n",
       "       [7, 2, 2, ..., 4, 2, 7],\n",
       "       [9, 4, 7, ..., 6, 7, 6]], dtype=int64)"
      ]
     },
     "execution_count": 5,
     "metadata": {},
     "output_type": "execute_result"
    }
   ],
   "source": [
    "rng.integers(1, 10, size=(1000, 1000))"
   ]
  },
  {
   "cell_type": "markdown",
   "id": "ec93da5f-1637-4682-a446-c7ea305efc72",
   "metadata": {},
   "source": [
    "Once the randomly generated data starts to get large like in example above a better approach is grpahically plot the data. This allows for easier comprehension of large datasets by the end user."
   ]
  },
  {
   "cell_type": "code",
   "execution_count": 6,
   "id": "02428da6-dc46-4299-b0fa-5eed1db4f38d",
   "metadata": {},
   "outputs": [
    {
     "data": {
      "text/plain": [
       "(array([115., 115.,  95.,  82., 105., 107.,  90.,  98.,  99.,  94.]),\n",
       " array([0. , 0.9, 1.8, 2.7, 3.6, 4.5, 5.4, 6.3, 7.2, 8.1, 9. ]),\n",
       " <BarContainer object of 10 artists>)"
      ]
     },
     "execution_count": 6,
     "metadata": {},
     "output_type": "execute_result"
    },
    {
     "data": {
      "image/png": "[encoded data removed]",
      "text/plain": [
       "<Figure size 432x288 with 1 Axes>"
      ]
     },
     "metadata": {
      "needs_background": "light"
     },
     "output_type": "display_data"
    }
   ],
   "source": [
    "x = rng.integers(10, size=(1000))\n",
    "plt.hist(x)"
   ]
  },
  {
   "cell_type": "markdown",
   "id": "3f6d48e1-ab20-4af4-945a-f62991c73255",
   "metadata": {},
   "source": [
    "The histogram above provides an easier to understand visualisation of the data. The random data generator was requested to give us 1000 values in the range 0-10 in the code. Visualizing this as pure integers is quite difficult for humans. Plotting the histogram quickly, and accurately, tells us that there are 80 instances of 0, 100 instances of 1 and so on. Increasing the sample size will give us a more uniform distribution as simply there are more data points taken."
   ]
  },
  {
   "cell_type": "code",
   "execution_count": 7,
   "id": "7bec42a0-485e-4a52-a7fc-979814dd41ab",
   "metadata": {},
   "outputs": [
    {
     "data": {
      "text/plain": [
       "(array([10068., 10029.,  9896., 10018., 10042., 10004.,  9820.,  9952.,\n",
       "        10055., 10116.]),\n",
       " array([0. , 0.9, 1.8, 2.7, 3.6, 4.5, 5.4, 6.3, 7.2, 8.1, 9. ]),\n",
       " <BarContainer object of 10 artists>)"
      ]
     },
     "execution_count": 7,
     "metadata": {},
     "output_type": "execute_result"
    },
    {
     "data": {
      "image/png": "[encoded data removed]",
      "text/plain": [
       "<Figure size 432x288 with 1 Axes>"
      ]
     },
     "metadata": {
      "needs_background": "light"
     },
     "output_type": "display_data"
    }
   ],
   "source": [
    "x = rng.integers(10, size=(100000))\n",
    "plt.hist(x)"
   ]
  },
  {
   "cell_type": "markdown",
   "id": "84e1c886-f0e0-45d5-a8f0-ccec8802debe",
   "metadata": {},
   "source": [
    "The above example shows that all numbers in our range 0-10 are being randomly genereated at the same frequency. The default distribution in numpy.random is uniform. This means that all integers have an equal chance of being randomly outputted. i.e. in the above case 2 is as likely to be outputted as 8, for example. In the real world data is rarely uniformly distributed. There are a large number of mathematical distributions possible, and some of these will be discussed below in this notebook.  \n",
    "A practical use of this simple random generator would be in the Irish lottery (Lotto). This lottery requires the generation of 7 random numbers in the range 1-47. While it's done (theatrically!) in a television studio, under external supervision, with the random selection of numbered balls by a machine, it could also be done with a simple line of code using numpy.random:"
   ]
  },
  {
   "cell_type": "code",
   "execution_count": 8,
   "id": "f8b5b048-d753-426f-9764-4f3994b2a962",
   "metadata": {},
   "outputs": [
    {
     "data": {
      "text/plain": [
       "array([41, 23,  1, 16, 26, 15, 37], dtype=int64)"
      ]
     },
     "execution_count": 8,
     "metadata": {},
     "output_type": "execute_result"
    }
   ],
   "source": [
    "rng.integers(1, 47, size=7)"
   ]
  },
  {
   "cell_type": "markdown",
   "id": "4adc91ec-0109-4bcc-a708-78a98170b856",
   "metadata": {},
   "source": [
    "The above code produces the first six numbers required for the lotto draw, and the seventh 'bonus' ball also needed for further prizes. Re-running the code produces different results each time. As the integers generated are randomly outputted this could be used to produce the lotto numbers each week but I doubt the viewing public would tune in, or trust the data being generated for that matter...  "
   ]
  },
  {
   "cell_type": "markdown",
   "id": "24a8eb16-62e7-46a9-b177-43e7dcf31348",
   "metadata": {},
   "source": [
    "## Permutations\n",
    "***\n",
    "Another function to be discussed in the numpy.random package is the permutations function. Permutation of a set of data involves the order in which the data is placed, or re-arrangement of a set of data. [4] The permutations function in numpy.random allows the end user to re-arrange the order in which a set of data is displayed. Consider the simple example below, adapted from the official documentation:"
   ]
  },
  {
   "cell_type": "code",
   "execution_count": 9,
   "id": "2480433f-d684-4707-b943-14fe4b46499d",
   "metadata": {},
   "outputs": [
    {
     "data": {
      "text/plain": [
       "array([1, 2, 3, 4, 5, 6, 7, 8, 9])"
      ]
     },
     "execution_count": 9,
     "metadata": {},
     "output_type": "execute_result"
    }
   ],
   "source": [
    "x = np.arange(1, 10)\n",
    "x"
   ]
  },
  {
   "cell_type": "code",
   "execution_count": 10,
   "id": "f3a94202-5b2a-4268-a720-9595c0f39428",
   "metadata": {},
   "outputs": [
    {
     "data": {
      "text/plain": [
       "array([7, 4, 1, 5, 3, 2, 8, 9, 6])"
      ]
     },
     "execution_count": 10,
     "metadata": {},
     "output_type": "execute_result"
    }
   ],
   "source": [
    "y = rng.permuted(x, out=x)\n",
    "x"
   ]
  },
  {
   "cell_type": "markdown",
   "id": "fcd878ac-494e-465b-99d6-8e5b530c28a0",
   "metadata": {},
   "source": [
    "The original array is in the order 1 to 10. Applying the permutation to the array re-arranges the order randomly. \n",
    "Re-runnig the previous cell re-arranges the array in a different order each time.  \n",
    "The permutations function can also be applied across two-dimensional data:"
   ]
  },
  {
   "cell_type": "code",
   "execution_count": 11,
   "id": "675bc9ab-8d76-4d56-b724-a9d4bc64554a",
   "metadata": {},
   "outputs": [
    {
     "data": {
      "text/plain": [
       "array([[ 0,  1,  2,  3,  4],\n",
       "       [ 5,  6,  7,  8,  9],\n",
       "       [10, 11, 12, 13, 14],\n",
       "       [15, 16, 17, 18, 19]])"
      ]
     },
     "execution_count": 11,
     "metadata": {},
     "output_type": "execute_result"
    }
   ],
   "source": [
    "x = np.arange(0, 20).reshape(4, 5)\n",
    "# Splitting the data into 4 rows, taken from official documentation\n",
    "x"
   ]
  },
  {
   "cell_type": "code",
   "execution_count": 12,
   "id": "ec0c64c7-2721-41b1-9f42-f02115a94371",
   "metadata": {},
   "outputs": [
    {
     "data": {
      "text/plain": [
       "array([[ 2,  4,  0,  1,  3],\n",
       "       [ 7,  6,  9,  5,  8],\n",
       "       [14, 13, 11, 10, 12],\n",
       "       [19, 16, 17, 18, 15]])"
      ]
     },
     "execution_count": 12,
     "metadata": {},
     "output_type": "execute_result"
    }
   ],
   "source": [
    "rng.permuted(x, out = x, axis=1)\n",
    "x"
   ]
  },
  {
   "cell_type": "markdown",
   "id": "e9c2cadb-d7e4-45a1-9922-c154e9c1543c",
   "metadata": {},
   "source": [
    "The original array is re-arranged, but the integers remain in their original rows."
   ]
  },
  {
   "cell_type": "code",
   "execution_count": 13,
   "id": "148250f0-13ef-4b1a-94cf-91c25d68c343",
   "metadata": {},
   "outputs": [
    {
     "data": {
      "text/plain": [
       "array([[14, 16, 17, 10,  8],\n",
       "       [ 2,  6, 11,  5, 15],\n",
       "       [ 7, 13,  9,  1,  3],\n",
       "       [19,  4,  0, 18, 12]])"
      ]
     },
     "execution_count": 13,
     "metadata": {},
     "output_type": "execute_result"
    }
   ],
   "source": [
    "rng.permuted(x, out = x, axis=0)\n",
    "x"
   ]
  },
  {
   "cell_type": "markdown",
   "id": "094aa47e-f514-443f-95ff-5cda9b177be1",
   "metadata": {},
   "source": [
    "Converting the axis value to zero allows for full permutation across the four rows.  \n",
    "Permutations can also be performed across other sets of data that aren't generated by numpy, also, the list does not have to be numerical to be permuted. In this case the shuffle command is used."
   ]
  },
  {
   "cell_type": "code",
   "execution_count": 14,
   "id": "99fcaa90-6c82-46e7-9ff9-48adacac8628",
   "metadata": {},
   "outputs": [
    {
     "data": {
      "text/plain": [
       "['Apples',\n",
       " 'Oranges',\n",
       " 'Grapes',\n",
       " 'Bananas',\n",
       " 'Watermelons',\n",
       " 'Lemons',\n",
       " 'Melons',\n",
       " 'Figs']"
      ]
     },
     "execution_count": 14,
     "metadata": {},
     "output_type": "execute_result"
    }
   ],
   "source": [
    "List = ['Apples', 'Bananas', 'Figs', 'Grapes', 'Lemons', 'Melons', 'Oranges', 'Watermelons']\n",
    "rng.shuffle(List)\n",
    "List"
   ]
  },
  {
   "cell_type": "markdown",
   "id": "c8e4955b-64bd-4955-afef-731693cfa81b",
   "metadata": {},
   "source": [
    "The main application of permutations in terms of computer science is in the field of crytography and encryption. Having the ability to send encrypted data across the internet is crucial. If data is not secured, particularly personal data, it can lead to disastrous consequences, either personally or financially."
   ]
  },
  {
   "cell_type": "markdown",
   "id": "466cca30-8344-429b-ad94-ba6c0b42c622",
   "metadata": {},
   "source": [
    "![](https://directcrack.info/wp-content/uploads/2020/12/GiliSoft-USB-Lock-Crack10.0-Latest-Version-Free-Download.png)"
   ]
  },
  {
   "cell_type": "markdown",
   "id": "4fbb8f4c-f77f-4c09-8d80-3896bd004062",
   "metadata": {},
   "source": [
    "Consider the recent hacking of the people's medical data in Ireland. As people's personal data was not properly secured, hackers were able to access the HSE's online system in a ransomware style attack, and consequently release people's personal details across the internet. [5] A properly encrypted and secure system would not have allowed this hack to happen.  \n",
    "Being able to send data securely across the internet is essential in the modern world. The encryption and decryption of data allows for this to occur. Permutation of data by programs such as the numpy.random package in Python can be used to encrpyt data, send it across the web, and decrypt it once it is received. "
   ]
  },
  {
   "cell_type": "code",
   "execution_count": null,
   "id": "04eaa800-08a3-4b07-b6db-fbef381e7c96",
   "metadata": {},
   "outputs": [],
   "source": []
  },
  {
   "cell_type": "markdown",
   "id": "02239ee4-26bb-410e-bccb-0216a330db1f",
   "metadata": {},
   "source": [
    "<br>\n",
    "\n",
    "## Distributions  \n",
    "***\n",
    "I will now proceed to explain the use and purpose of five different distributions available in \n",
    "numpy.random. A distribution can be defined as a function that shows the possible values for a variable \n",
    "and how often or likely it will occur. Numpy.random offers a wide variety of distribution options when \n",
    "generating a random set of data. These range from the ubiquitous (normal ,uniform) to the more obscure \n",
    "(binomial, Poisson). Each distribution can be called when generating a random set of data using Numpy. \n",
    "These random, or pseudorandom, datasets can then be analysed and applied to real world scenarios to \n",
    "help build predictive models, determine probabilities or to help model real world data and compare with \n",
    "the random data"
   ]
  },
  {
   "cell_type": "code",
   "execution_count": 15,
   "id": "918ddb4f-e39d-4adb-8919-023aa05ca262",
   "metadata": {},
   "outputs": [
    {
     "data": {
      "image/png": "[encoded data removed]",
      "text/plain": [
       "<Figure size 432x288 with 1 Axes>"
      ]
     },
     "metadata": {
      "needs_background": "light"
     },
     "output_type": "display_data"
    }
   ],
   "source": [
    "# Adapted code from Official Documentation\n",
    "# Mean of 100, Standard Deviation of 5, 1000 datapoints \n",
    "data = np.random.normal(100, 5, 1000)\n",
    "\n",
    "plt.hist (data)\n",
    "plt.show()"
   ]
  },
  {
   "cell_type": "markdown",
   "id": "52e24b8a-9964-4ec3-bd0a-35d58cdfce89",
   "metadata": {},
   "source": [
    "<br>\n",
    "\n",
    "### Normal / Gaussian Distribution\n",
    "***\n",
    "The normal distribution of data is the most common. In a normal distribution all data is centered, or symmetrical, around  the mean, the further from the mean the variable is, the less likely it is to occur. Data is visually \n",
    "represented as a “bell-shaped curve” where the highest probability of a variable occurring coincides with \n",
    "the top of the curve i.e. the mean. The name Gaussian comes from the German mathematician and \n",
    "physicist Carl Friedrich Gauss [6] who first suggested the normal distribution of data in the \n",
    "early 1800s, although there is some dispute as to who first developed the theory for this distribution [7].  \n",
    "\n",
    "In a normal distribution the data is centered around the mean value given and the mean is the most likely variable in the data. The spread of the data, or variance, is decided by a factor called the standard deviation. The standard deviation is a figure given to indicate how the data varies around the mean. In a normally distributed set of data 99.7% of all variables will be found within the standard deviation multiplied by a factor of three either side of the mean. In the simple example given above there is a mean value of 100, and a standard deviation of 5. This means that 99.7% of all variable will lie in the range 100 +/- (3 x 5) i.e. 85 to 115. This is backed up by visually assessing the plot where there is zero frequency below 85 and a slight bar seen above 115. Re-plotting the data with a different standard deviation value of 1, for example, confirms this:"
   ]
  },
  {
   "cell_type": "code",
   "execution_count": 16,
   "id": "918d3734-93da-467a-8e4c-a661b65d6299",
   "metadata": {},
   "outputs": [
    {
     "data": {
      "image/png": "[encoded data removed]",
      "text/plain": [
       "<Figure size 432x288 with 1 Axes>"
      ]
     },
     "metadata": {
      "needs_background": "light"
     },
     "output_type": "display_data"
    }
   ],
   "source": [
    "# Changing standard deviation to 1\n",
    "data = np.random.normal(100, 1, 1000)\n",
    "\n",
    "plt.hist (data)\n",
    "plt.show()"
   ]
  },
  {
   "cell_type": "markdown",
   "id": "86efacc1-12ee-4d4c-9361-8692cb5e6ca5",
   "metadata": {},
   "source": [
    "There are some real world examples of data that is can be normally distributed (height of a population, shoe size, IQ scores etc.). The reason for this data being normally distributed is based on the central limit theorem. The central limit theorem states that if you have a sufficently large sample size of independent variables, the distribution of the data will approximately assume a normal shape, centred around the mean. The key word in this definition is \"approximately\". The data will appear as normal distribution even if it is not truly normally distributed. [8]  \n",
    "A great example of this central limit theorem is observed when rolling a standard dice and recording the results given. Note: A dice roll on its own would be an example of a uniform distribution, see below. The more times the dice is rolled the more data we have, and the more the plots of this data appear to be normally distributed. I will demonstrate this with a few lines of code below."
   ]
  },
  {
   "cell_type": "code",
   "execution_count": 17,
   "id": "560bf467-13b2-48bb-bc0b-f6685591d311",
   "metadata": {},
   "outputs": [
    {
     "data": {
      "text/plain": [
       "<function matplotlib.pyplot.show(close=None, block=None)>"
      ]
     },
     "execution_count": 17,
     "metadata": {},
     "output_type": "execute_result"
    },
    {
     "data": {
      "image/png": "[encoded data removed]",
      "text/plain": [
       "<Figure size 432x288 with 1 Axes>"
      ]
     },
     "metadata": {
      "needs_background": "light"
     },
     "output_type": "display_data"
    }
   ],
   "source": [
    "# Generating random integers between 1 and 6, 10 variables requested\n",
    "rng = np.random.default_rng()\n",
    "x = rng.integers(1, 7, size=10)\n",
    "plt.hist(x)\n",
    "plt.show"
   ]
  },
  {
   "cell_type": "markdown",
   "id": "8c0067cf-8e0a-4536-96ba-cf572abc2b5b",
   "metadata": {},
   "source": [
    "Intially 10 rolls of the dice are performed, no obvious distribution is observed. Now increase this to 1000:\n"
   ]
  },
  {
   "cell_type": "code",
   "execution_count": 18,
   "id": "19518511-2d31-4890-aeea-c3e2129e3c87",
   "metadata": {},
   "outputs": [
    {
     "data": {
      "text/plain": [
       "<function matplotlib.pyplot.show(close=None, block=None)>"
      ]
     },
     "execution_count": 18,
     "metadata": {},
     "output_type": "execute_result"
    },
    {
     "data": {
      "image/png": "[encoded data removed]",
      "text/plain": [
       "<Figure size 432x288 with 1 Axes>"
      ]
     },
     "metadata": {
      "needs_background": "light"
     },
     "output_type": "display_data"
    }
   ],
   "source": [
    "rng = np.random.default_rng()\n",
    "x = rng.integers(1, 7, size=1000)\n",
    "plt.hist(x)\n",
    "plt.show"
   ]
  },
  {
   "cell_type": "markdown",
   "id": "0fbf9125-38a8-4ca0-8758-b2b00a980e00",
   "metadata": {},
   "source": [
    "The data appears to be uniformly distributed, which is what we would expect if the dice was not weighted. i.e. each number has the same chance of appearing when a dice is rolled. However, suppose we rolled two dice 1000 times and recorded the average"
   ]
  },
  {
   "cell_type": "code",
   "execution_count": 19,
   "id": "cbbfde27-aeda-4ecb-ad7a-f68dd3d8f716",
   "metadata": {},
   "outputs": [
    {
     "data": {
      "text/plain": [
       "<function matplotlib.pyplot.show(close=None, block=None)>"
      ]
     },
     "execution_count": 19,
     "metadata": {},
     "output_type": "execute_result"
    },
    {
     "data": {
      "image/png": "[encoded data removed]",
      "text/plain": [
       "<Figure size 432x288 with 1 Axes>"
      ]
     },
     "metadata": {
      "needs_background": "light"
     },
     "output_type": "display_data"
    }
   ],
   "source": [
    "# Adapted from example in [9]\n",
    "import statistics\n",
    "rng = np.random.default_rng()\n",
    "x = rng.integers(1, 7, size=1000)\n",
    "y = rng.integers(1, 7, size=1000) \n",
    "Averages =  [statistics.mean(z) for z in zip(x, y)]\n",
    "plt.hist(Averages)\n",
    "plt.show"
   ]
  },
  {
   "cell_type": "markdown",
   "id": "2149f69b-9e05-4162-9049-581b979b035b",
   "metadata": {},
   "source": [
    "Even though we know that the probability of rolling a dice is 1 in 6, and the data should not be normally distributed, by increasing the number of rolls and averaging two dice the data tends towards a normal distribution. Suppose we rolled 5 dice and averaged the results:"
   ]
  },
  {
   "cell_type": "code",
   "execution_count": 20,
   "id": "32a787ba-419d-4525-894a-370104f45324",
   "metadata": {},
   "outputs": [
    {
     "data": {
      "text/plain": [
       "<function matplotlib.pyplot.show(close=None, block=None)>"
      ]
     },
     "execution_count": 20,
     "metadata": {},
     "output_type": "execute_result"
    },
    {
     "data": {
      "image/png": "[encoded data removed]",
      "text/plain": [
       "<Figure size 432x288 with 1 Axes>"
      ]
     },
     "metadata": {},
     "output_type": "display_data"
    }
   ],
   "source": [
    "rng = np.random.default_rng()\n",
    "# Adding five randomly generated lists and averaging to simulate 5 dice being rolled 1000 times\n",
    "a = rng.integers(1, 7, size=1000)\n",
    "b = rng.integers(1, 7, size=1000) \n",
    "c = rng.integers(1, 7, size=1000)\n",
    "d = rng.integers(1, 7, size=1000)\n",
    "e = rng.integers(1, 7, size=1000) \n",
    "Averages =  [statistics.mean(z) for z in zip(a, b, c, d, e)]\n",
    "\n",
    "# Formatting to improve appearance of histogram\n",
    "plt.style.use('fivethirtyeight')\n",
    "plt.title ('Histogram - Average Dice Results', size=20)\n",
    "plt.xlabel('Dice Results', size=15)\n",
    "plt.ylabel('Frequency', size = 15)\n",
    "plt.xticks(fontsize=15)\n",
    "plt.yticks(fontsize=15)\n",
    "plt.grid(True)\n",
    "plt.hist(Averages, color = 'g')\n",
    "plt.show"
   ]
  },
  {
   "cell_type": "markdown",
   "id": "e4cb67b2-5a5b-417a-8cbf-871e1ae42b83",
   "metadata": {},
   "source": [
    "The data is clearly normally distributed now, even though we know that the results for rolling a dice are uniformly distributed. This is clear evidence of the central limit theorem where data approximates towards normal distribution if the sample size is increased and the variables are independent.  \n",
    "Other real world examples of normal distribution are weight of newboern babies, average age or retirement of professional athletes etc, height of a population etc. Again, it is likely that these \"normal\" distributions are likely to only appear normal due to the central limit theorem."
   ]
  },
  {
   "cell_type": "markdown",
   "id": "8a7f0b49-19e5-4f85-8007-b768c18e26a0",
   "metadata": {},
   "source": [
    "<br>\n",
    "\n",
    "### Uniform Distribution  \n",
    "\n",
    "In a uniform distribution each variable has an equal probablility of being generated. As opposed to the normal distribution outlined above the data is not centered around a mean value, but instead there is an equal spread of data in the distribution.  \n",
    "A uniform distribution can be called in numpy.random as follows:"
   ]
  },
  {
   "cell_type": "code",
   "execution_count": 21,
   "id": "93afbb40-15a3-4b0e-9b01-2249ab8b1c10",
   "metadata": {},
   "outputs": [
    {
     "data": {
      "text/plain": [
       "array([0.84568284, 0.54207041, 0.17820202, 0.83834903, 0.93086669,\n",
       "       0.83428658, 0.70537195, 0.89775743, 0.33992272, 0.32895366,\n",
       "       0.80421018, 0.74185777, 0.04952017, 0.87590056, 0.79627859,\n",
       "       0.31437582, 0.67215319, 0.4916393 , 0.34007697, 0.82085771,\n",
       "       0.76997589, 0.21217101, 0.94612018, 0.86458884, 0.99684375,\n",
       "       0.70869289, 0.91493494, 0.96759411, 0.2081584 , 0.0431815 ,\n",
       "       0.52966856, 0.05043395, 0.5518982 , 0.13835157, 0.32263944,\n",
       "       0.69885012, 0.55255454, 0.72679333, 0.50767522, 0.33590274,\n",
       "       0.63162633, 0.31581535, 0.77399258, 0.1733984 , 0.23199055,\n",
       "       0.2028454 , 0.65481134, 0.9470009 , 0.19864386, 0.00515704,\n",
       "       0.27663995, 0.15857324, 0.12774841, 0.20222143, 0.04259544,\n",
       "       0.47573997, 0.26829737, 0.75941467, 0.92800995, 0.34481029,\n",
       "       0.88230979, 0.14915774, 0.25973073, 0.9461824 , 0.03477122,\n",
       "       0.46603552, 0.77488383, 0.8795679 , 0.58097341, 0.95504015,\n",
       "       0.66822156, 0.25922417, 0.90091898, 0.30769004, 0.96335428,\n",
       "       0.55089008, 0.91846477, 0.8738407 , 0.67198735, 0.29651331,\n",
       "       0.2572804 , 0.90998275, 0.36055821, 0.88389128, 0.69913057,\n",
       "       0.75147765, 0.11427551, 0.04338955, 0.33873619, 0.29694462,\n",
       "       0.09533405, 0.17500528, 0.80109998, 0.64290856, 0.76165214,\n",
       "       0.75467523, 0.24358252, 0.35371941, 0.56660391, 0.21807678])"
      ]
     },
     "execution_count": 21,
     "metadata": {},
     "output_type": "execute_result"
    }
   ],
   "source": [
    "# Adapted from the Official Documentation\n",
    "x = np.random.default_rng().uniform(0,1,100)\n",
    "x"
   ]
  },
  {
   "cell_type": "code",
   "execution_count": null,
   "id": "564979c1-dca8-405b-8b56-46f7ffee6e8b",
   "metadata": {},
   "outputs": [],
   "source": []
  },
  {
   "cell_type": "markdown",
   "id": "8681eaf1-7ea2-4ee9-9d08-c4de1afe0ed8",
   "metadata": {},
   "source": [
    "In the example above the minimum in the data range is 0, and the maximum is 1. 100 variables have been requested. It should be noted that the variable can be equal to the lower value, but, the variable is always less than the maximum, by default. This can be changed if required. The default values in this distribution are floating points.   \n",
    "What is not immediately obvious from the data is the uniform nature of the variables. i.e. each variable has an equal probablility of being generated. It becomes clearer when the data is plotted:"
   ]
  },
  {
   "cell_type": "code",
   "execution_count": 22,
   "id": "9ae282fb-2450-4eef-8f0d-04679cd43062",
   "metadata": {},
   "outputs": [
    {
     "data": {
      "image/png": "[encoded data removed]",
      "text/plain": [
       "<Figure size 432x288 with 1 Axes>"
      ]
     },
     "metadata": {},
     "output_type": "display_data"
    }
   ],
   "source": [
    "# Also adapted from Official Documentation\n",
    "x = np.random.default_rng().uniform(0,1,100)\n",
    "plt.style.use('fivethirtyeight')\n",
    "count, bins, ignored = plt.hist(x, 15, density=True)\n",
    "plt.plot(bins, np.ones_like(bins), linewidth=1, color='black')\n",
    "plt.show()"
   ]
  },
  {
   "cell_type": "markdown",
   "id": "3d50784d-ea16-4774-9127-d33e23498096",
   "metadata": {},
   "source": [
    "A similar issue that was noted with the normal distribution is that the relatively small number of variables chosen (100) does not make it immediately obvious that this is a uniform distribution. This can be amended by increasing the number of variables"
   ]
  },
  {
   "cell_type": "code",
   "execution_count": 23,
   "id": "0a974baa-c500-4035-a80b-b69c19814b5a",
   "metadata": {},
   "outputs": [
    {
     "data": {
      "image/png": "[encoded data removed]",
      "text/plain": [
       "<Figure size 576x396 with 1 Axes>"
      ]
     },
     "metadata": {},
     "output_type": "display_data"
    }
   ],
   "source": [
    "x = np.random.default_rng().uniform(0,1,10000)\n",
    "plt.style.use('seaborn')\n",
    "count, bins, ignored = plt.hist(x, 15, density=True)\n",
    "plt.plot(bins, np.ones_like(bins), linewidth=1, color='black')\n",
    "plt.show()"
   ]
  },
  {
   "cell_type": "markdown",
   "id": "41fc8f7a-5241-461a-b5df-d42135689d4b",
   "metadata": {},
   "source": [
    "Increasing the number of variables from 100 to 10,000 confirms that this is a uniform distribution. Each variable, in the requested range has an equal probablility of being generated.  \n",
    "A real world example of data in a uniform distribution would be in a raffle. Suppose a raffle consisted of 10,000 tickets, all sold to the general public. Each raffle ticket has an equal probablility of being drawn (providing no cheating occurs). An example of a simluated raffle is given below:"
   ]
  },
  {
   "cell_type": "markdown",
   "id": "3d2699c7-e9ba-44d2-8371-7620508647aa",
   "metadata": {},
   "source": [
    "![](https://cdn-icons-png.flaticon.com/128/1901/1901848.png)"
   ]
  },
  {
   "cell_type": "code",
   "execution_count": 24,
   "id": "f26fe69b-910e-414f-8a76-04442edcd5ff",
   "metadata": {},
   "outputs": [
    {
     "data": {
      "text/plain": [
       "array([6993], dtype=int64)"
      ]
     },
     "execution_count": 24,
     "metadata": {},
     "output_type": "execute_result"
    }
   ],
   "source": [
    "# Adapted from Official Documentation Example\n",
    "import numpy as np\n",
    "rng = np.random.default_rng(12345)\n",
    "x = rng.integers(low=1, high=10001, size=1)\n",
    "x"
   ]
  },
  {
   "cell_type": "markdown",
   "id": "ebd55b12-291d-459f-839f-29b87efb9f9e",
   "metadata": {},
   "source": [
    "In the above case the code will call a random integer between 1 and 10000 and each number has an equal probability of being called. Other examples of data in a uniform distribution, dealing cards from a deck (1 in 52 chance of a particular card being drawn), rolling a dice (1 in 6 chance of rolling a particular number) etc. "
   ]
  },
  {
   "cell_type": "markdown",
   "id": "4f350659-caf7-4897-869c-0a4cb1da214e",
   "metadata": {},
   "source": [
    "<br>\n",
    "\n",
    "## Binomial Distribution\n",
    "***\n",
    "\n",
    "The binomial distribution is a distribution that has only two possible outcomes, e.g. true or false, pass or fail, or in a coin toss, heads or tails. The prefix \"bi\" means two or twice. [10].  \n",
    "The simplest example of data in a binomial distribution would be tossing a coin. When you toss a coin there are only two possible outcomes, heads or tails. Tossing a coin a number of times and recording the results would lead to data in a binmoial distribution"
   ]
  },
  {
   "cell_type": "markdown",
   "id": "9bf6d28c-804f-48e0-bb65-9596f57c4a9d",
   "metadata": {},
   "source": [
    "![](https://s.cafebazaar.ir/images/icons/com.abe.flip_coin-a9d3642e-334e-448b-a9b9-c2c45a1b27da_128x128.png)"
   ]
  },
  {
   "cell_type": "code",
   "execution_count": 25,
   "id": "160d960b-3723-4c95-9558-a710c885ec91",
   "metadata": {},
   "outputs": [
    {
     "name": "stdout",
     "output_type": "stream",
     "text": [
      "[ 6  2  5 10  6  5  6  8  6  4  3  5  6  4  6  6  7  5  6  7]\n"
     ]
    },
    {
     "data": {
      "image/png": "[encoded data removed]",
      "text/plain": [
       "<Figure size 576x396 with 1 Axes>"
      ]
     },
     "metadata": {},
     "output_type": "display_data"
    }
   ],
   "source": [
    "# Adapted from Official Documentation Example\n",
    "rng = np.random.default_rng()\n",
    "n = 10 # Number of coin tosses\n",
    "p = 0.5 # Probability is 0.5 (i.e equal chace heads/tails)\n",
    "x = rng.binomial(n, p, 20)# Tested 20 times\n",
    "print(x)\n",
    "plt.style.use('seaborn-dark')\n",
    "plt.hist(x)\n",
    "plt.show()"
   ]
  },
  {
   "cell_type": "markdown",
   "id": "2f1f37d2-fa5c-40d7-a186-9916fb1b3633",
   "metadata": {},
   "source": [
    "Visually there doesn't appear to be a trend with the data. Re-running the code gives very different results each time. This is because we have only run the test 20 times. Suppose we ran it 10000 times instead of 20:"
   ]
  },
  {
   "cell_type": "code",
   "execution_count": 26,
   "id": "63f433ca-32ec-447c-b9dc-19275aac7f8e",
   "metadata": {},
   "outputs": [
    {
     "data": {
      "image/png": "[encoded data removed]",
      "text/plain": [
       "<Figure size 576x396 with 1 Axes>"
      ]
     },
     "metadata": {},
     "output_type": "display_data"
    }
   ],
   "source": [
    "x = rng.binomial(n, p, 10000)# Tested 10000 times\n",
    "plt.style.use('seaborn-dark')\n",
    "plt.hist(x)\n",
    "plt.show()"
   ]
  },
  {
   "cell_type": "markdown",
   "id": "0a8c70ba-3148-4fb7-9806-3f56222ddf78",
   "metadata": {},
   "source": [
    "Now we can see it becomes very similar to a normal distribution in appearance. This is as a result of the central limit theorem discussed in the normal distribution section, i.e when the data points become large the data (of independent variables) tends or approximates towards a normal distribution.   \n",
    "Other examples of binomial distribution of data would be in clinical trials of pharmaceuticals where medication could be measured in terms of effective or non-effective ( or where some patients would see side effects and some wouldn't), or for example political elections i.e. assessing the chances of a candidates election based on polling data and voter turnout."
   ]
  },
  {
   "cell_type": "markdown",
   "id": "dd48ef47-f056-4a80-bd4b-92ef3fcdcb95",
   "metadata": {},
   "source": [
    "<br>\n",
    "\n",
    "## Pareto Distribution  \n",
    "\n",
    "***\n",
    "\n",
    "A Pareto distribution contrasts from the previous examples in that data tends to be skewed to one side. The distribution was named after the Italian economist, sociologist and civil engineer Vifredo Pareto who performed studies on income and wealth distribution [11][12]  \n",
    "The simplest explanation of this distribution is the \"80-20\" rule, where 80% of outcomes are decided by 20% of causes. In Pareto's original study, for example, 20% of people posessed the majority of the wealth. Nowadays the Pareto distribution is defined more precisely as distributions with a shape value (α) of log<sub>4</sub>5 ≈ 1.16 [13]  \n",
    "As with the previous distributions it is best explained with examples (Adapted from official documentation):"
   ]
  },
  {
   "cell_type": "code",
   "execution_count": 27,
   "id": "7b434886-030a-43a9-93cd-47c262b0c598",
   "metadata": {},
   "outputs": [
    {
     "data": {
      "image/png": "[encoded data removed]",
      "text/plain": [
       "<Figure size 576x396 with 1 Axes>"
      ]
     },
     "metadata": {},
     "output_type": "display_data"
    }
   ],
   "source": [
    "a = 3 # shape of data, (α is used in the mathematical formula)\n",
    "m = 2 # mode of data, the value that appears most frequently in a set\n",
    "# Generating 500 datapoiints in a Pareto distribution\n",
    "x = (np.random.default_rng().pareto(a, 500) + 1) * m \n",
    "\n",
    "# Plotting\n",
    "plt.style.use('seaborn-dark')\n",
    "plt.hist (x, bins=100, color = 'darkviolet')\n",
    "plt.show()"
   ]
  },
  {
   "cell_type": "markdown",
   "id": "017777ca-fb11-437a-b838-dee862c83018",
   "metadata": {},
   "source": [
    "As can clearly be seen the data is highly skewed around the value of 2. This is because we set the mode as 2, i.e the value that occurs mostly in our set is 2. Suppose we change the mode to a higher value:"
   ]
  },
  {
   "cell_type": "code",
   "execution_count": 28,
   "id": "e28571f4-abe9-46e6-aceb-5b168273b577",
   "metadata": {},
   "outputs": [
    {
     "data": {
      "image/png": "[encoded data removed]",
      "text/plain": [
       "<Figure size 576x396 with 1 Axes>"
      ]
     },
     "metadata": {},
     "output_type": "display_data"
    }
   ],
   "source": [
    "a = 3\n",
    "m = 50\n",
    "\n",
    "x = (np.random.default_rng().pareto(a, 500) + 1) * m \n",
    "\n",
    "# Plotting\n",
    "plt.style.use('seaborn-dark')\n",
    "plt.hist (x, bins=100, color = 'orangered')\n",
    "plt.show()"
   ]
  },
  {
   "cell_type": "markdown",
   "id": "054a317e-cb77-48bc-84f1-91f9d65cf07c",
   "metadata": {},
   "source": [
    "The plot itself is similar in shape, but as the mode has been adjusted to 50 the highest point on our plot has changed from 2 to 50. Now suppose we change the shape factor (α):"
   ]
  },
  {
   "cell_type": "code",
   "execution_count": 29,
   "id": "dcdc0111-9688-4c34-b620-0713c13e552d",
   "metadata": {},
   "outputs": [
    {
     "data": {
      "image/png": "[encoded data removed]",
      "text/plain": [
       "<Figure size 576x396 with 1 Axes>"
      ]
     },
     "metadata": {},
     "output_type": "display_data"
    }
   ],
   "source": [
    "a = 6\n",
    "m = 50\n",
    "\n",
    "x = (np.random.default_rng().pareto(a, 500) + 1) * m \n",
    "\n",
    "# Plotting\n",
    "plt.style.use('seaborn-dark')\n",
    "plt.hist (x, bins=100, color = 'cyan')\n",
    "plt.show()"
   ]
  },
  {
   "cell_type": "markdown",
   "id": "55086b36-6792-4ea8-b59f-efd19c9490cd",
   "metadata": {},
   "source": [
    "Adjusting the shape factor, while keeping the mode the same, has the effect of changing the spread of the data outputted but as the mode is the same the highest point of our graph remains the same. This is more evident when both plots are overlaid:"
   ]
  },
  {
   "cell_type": "code",
   "execution_count": 30,
   "id": "274f3a69-9be6-4918-a599-27ffb9d6863c",
   "metadata": {},
   "outputs": [
    {
     "data": {
      "image/png": "[encoded data removed]",
      "text/plain": [
       "<Figure size 576x396 with 1 Axes>"
      ]
     },
     "metadata": {},
     "output_type": "display_data"
    }
   ],
   "source": [
    "# Two sets of Pareto data with different shapes\n",
    "a1, m1 = 3, 50\n",
    "a2, m2 = 6, 50\n",
    "\n",
    "x = (np.random.default_rng().pareto(a1, 500) + 1) * m1 \n",
    "y = (np.random.default_rng().pareto(a2, 500) + 1) * m2\n",
    "\n",
    "# Plotting\n",
    "plt.style.use('seaborn-dark')\n",
    "plt.hist(x, bins=100, color = 'orangered', alpha = 0.7)\n",
    "plt.hist(y, bins=100, color = 'cyan', alpha = 0.7)\n",
    "plt.show()"
   ]
  },
  {
   "cell_type": "markdown",
   "id": "345e9d1b-681a-46f6-9d97-d9225b72672a",
   "metadata": {},
   "source": [
    "The difference in the shape factor now becomes more clear. The data with a shape factor of 3 is more spread out that the data with double the shape factor. The mode is the same for both with a value of 50.  \n",
    "A good real world example of a Pareto distribution would be in the measure of strength of a weightlifter as they start an exercise program from scratch. Initially, the weightlifter finds that the increase in strength is very significant as they start an exercise program. However, they find that as time goes on their increase in strength becomes marginal over time despite doing the same amount of exercise. As they reach their physical capability limit they find that there is very little, or no, increase in strength no matter how much they exercise. This is also known as the law of diminishing returns and can also be applicable in a number of other sectors such as the financial sector (return on investments) and manufacturing (increase in output with extra staff, until reaching limit of machines output capabilities)."
   ]
  },
  {
   "cell_type": "markdown",
   "id": "a76c04c2-7812-46da-a1f1-ba44eb115ac2",
   "metadata": {},
   "source": [
    "<br>\n",
    "\n",
    "## Triangular Distribution\n",
    "\n",
    "***\n",
    "\n",
    "Another type of distribution available in numpy.random is a triangular distribution. As the name suggests a triangular distribution results in a plot in the shape of a triangle, which has lower and upper values (coinciding to the base of the triangle) and a mode value (coinciding to the height of the triangle). A triangular distribution is used in cases where there is a limited dataset, or is difficult / cost prohibitive to collect a large amount of data.[14]\n",
    "As is usually the case it is best to demonstrate this by plotting some randomly genrerated data using a triangular distribution."
   ]
  },
  {
   "cell_type": "code",
   "execution_count": 36,
   "id": "28b3076c-5dac-4371-bf2e-be9a5170eab6",
   "metadata": {},
   "outputs": [
    {
     "data": {
      "image/png": "[encoded data removed]",
      "text/plain": [
       "<Figure size 576x396 with 1 Axes>"
      ]
     },
     "metadata": {},
     "output_type": "display_data"
    }
   ],
   "source": [
    "# Generating a dataset with a triangular distribution\n",
    "# Adapted from official documentation\n",
    "x = plt.hist(np.random.default_rng().triangular\n",
    "             (0, 5, 10, 10000), bins=100, color = 'khaki')\n",
    "# min = 0, mode = 5, max = 10, no. of varaibles = 10000\n",
    "plt.show()"
   ]
  },
  {
   "cell_type": "markdown",
   "id": "d9e01dde-9a17-4e8e-a4f4-497d195997bc",
   "metadata": {},
   "source": [
    "The code above plots a simple example where there are minimum and maximum values of 0 and 10 with the mode of 5 giving the highest point of the 'triangle'. The triangular distribution is most often used in estimations where there is a defined min/max value, and a most likely value.  \n",
    "Take for example a student who is attempting to predict their grade in a subject. Based on his previous grades in this subject the student predicts that they won't get below 50% (due to all of the work he has put in...) but it is also highly unlikely that he won't get above 85% (due to what grades given to previous students), and it is most probable that he will achieve a grade in the region of 70%. The student could plot this as a triangular distribution using numpy and simulate running it a number of times to help predict what grade he may achieve."
   ]
  },
  {
   "cell_type": "code",
   "execution_count": 63,
   "id": "1ea04656-6c04-4eda-bd0c-294ca025ab9c",
   "metadata": {},
   "outputs": [
    {
     "data": {
      "image/png": "[encoded data removed]",
      "text/plain": [
       "<Figure size 576x396 with 1 Axes>"
      ]
     },
     "metadata": {},
     "output_type": "display_data"
    }
   ],
   "source": [
    "# Gernerate data as discussed\n",
    "x = plt.hist(np.random.default_rng().triangular\n",
    "             (50, 70, 85, 10000), bins=50, color = 'darkblue')\n",
    "plt.show()"
   ]
  },
  {
   "cell_type": "markdown",
   "id": "7abafd75-b2ce-4b54-8acb-4d2bae54ab1e",
   "metadata": {},
   "source": [
    "Suppose the student sits his exam and decides to revise his grade prediction. For example, he believes he did not do as well as he had predicted before the exam and would like to downgrade his projection from 70% to 60% but would like to keep his min/max the same"
   ]
  },
  {
   "cell_type": "code",
   "execution_count": 57,
   "id": "14427b1d-c65a-495a-a957-158f09d87599",
   "metadata": {},
   "outputs": [
    {
     "data": {
      "image/png": "[encoded data removed]",
      "text/plain": [
       "<Figure size 576x396 with 1 Axes>"
      ]
     },
     "metadata": {},
     "output_type": "display_data"
    }
   ],
   "source": [
    "# Gernerate data as discussed\n",
    "x = plt.hist(np.random.default_rng().triangular\n",
    "             (50, 70, 85, 10000), bins=50, color = 'darkblue', alpha = 0.5)\n",
    "y = plt.hist(np.random.default_rng().triangular\n",
    "             (50, 60, 85, 10000), bins=50, color = 'crimson', alpha = 0.5)\n",
    "plt.show()"
   ]
  },
  {
   "cell_type": "markdown",
   "id": "6aae1461-46f0-41be-97cb-8d90bedf14e4",
   "metadata": {},
   "source": [
    "He can now see the difference between his two predictions with the overlaid component offering a sort of visual average of his predictions. While this benefical from a visual standpoint a preferred option would be to have a mathematical probability to give a numerical likelihood of the grade likely to be acheived. This can be done by adding the density command to the plots. The density command gives the probabilities calculated according to the triangular distribution instead of the actual frequency values.   \n",
    "Note: A probablility value of 1 means that the outcome will happen, a probablility of 0 means that the outcome won't happen. The closer the probability value is to 1 the more likely it will happen."
   ]
  },
  {
   "cell_type": "code",
   "execution_count": 65,
   "id": "5f88096f-34ee-413f-a24b-db129f3142c2",
   "metadata": {},
   "outputs": [
    {
     "data": {
      "image/png": "[encoded data removed]",
      "text/plain": [
       "<Figure size 576x396 with 1 Axes>"
      ]
     },
     "metadata": {},
     "output_type": "display_data"
    }
   ],
   "source": [
    "# Gernerate data as discussed\n",
    "x = plt.hist(np.random.default_rng().triangular\n",
    "             (50, 70, 85, 10000), bins=50, \n",
    "             color = 'darkblue', alpha = 0.5, density = True)\n",
    "y = plt.hist(np.random.default_rng().triangular\n",
    "             (50, 60, 85, 10000), bins=50,\n",
    "             color = 'crimson', alpha = 0.5, density = True)\n",
    "plt.title(\"Probablility of Grade in Computer Science\") # Add Title\n",
    "plt.xlabel(\"Grade\\n(%)\") # Add x-axis label\n",
    "plt.ylabel(\"Probablilty\") # Add y-axis label\n",
    "plt.show()"
   ]
  },
  {
   "cell_type": "markdown",
   "id": "13e83b55-2650-43c5-bfc9-3c2fbe8a695b",
   "metadata": {},
   "source": [
    "Triangular distributions are not as widely used when compared to the normal or Pareto distributions. However, they do have applications in the real world when there is a limited dataset and a predictive model is still required. To plot a triangular distribution only three values are required, max, min and mode. However, there are some limitations to using this model. Real world data would be highly unlikely to form a triangular distribution. It also presumes that there would be no outliers in the data (another unliklely scenario with real data). Consequently, it has also been given the unenviable title of \"lack of knowledge\" distribution [14]."
   ]
  },
  {
   "cell_type": "code",
   "execution_count": null,
   "id": "18c3d218-f28d-4ab8-b774-53b9d55ebc6c",
   "metadata": {},
   "outputs": [],
   "source": []
  },
  {
   "cell_type": "code",
   "execution_count": null,
   "id": "1f24ca25-dbf7-4bd0-bc63-9a1e730bcfb3",
   "metadata": {},
   "outputs": [],
   "source": []
  },
  {
   "cell_type": "code",
   "execution_count": null,
   "id": "fbd3a58e-7bb0-4996-a49a-e41b90afb812",
   "metadata": {},
   "outputs": [],
   "source": []
  },
  {
   "cell_type": "code",
   "execution_count": null,
   "id": "c6e8bf23-53b1-4f3b-988a-9965b9fdfc75",
   "metadata": {},
   "outputs": [],
   "source": []
  },
  {
   "cell_type": "code",
   "execution_count": null,
   "id": "76c3d171-1635-47ab-9ecd-c2d6e682c55d",
   "metadata": {},
   "outputs": [],
   "source": []
  },
  {
   "cell_type": "code",
   "execution_count": null,
   "id": "70008f6c-e1ba-4b42-ae71-e6da64bd06f2",
   "metadata": {},
   "outputs": [],
   "source": []
  },
  {
   "cell_type": "code",
   "execution_count": null,
   "id": "0b439b45-ccf8-4583-ad2c-bbd895236c9e",
   "metadata": {},
   "outputs": [],
   "source": []
  },
  {
   "cell_type": "code",
   "execution_count": null,
   "id": "9d640522-f224-4141-9692-e78ff97462f1",
   "metadata": {},
   "outputs": [],
   "source": []
  },
  {
   "cell_type": "code",
   "execution_count": null,
   "id": "9890cfda-c1e6-40ff-9718-c14526be3996",
   "metadata": {},
   "outputs": [],
   "source": []
  },
  {
   "cell_type": "code",
   "execution_count": null,
   "id": "40ac7136-466a-4c66-81af-421612f061bb",
   "metadata": {},
   "outputs": [],
   "source": []
  },
  {
   "cell_type": "code",
   "execution_count": null,
   "id": "b9d85aaa-6c80-41e1-9bc0-988f62e3c1c6",
   "metadata": {},
   "outputs": [],
   "source": []
  },
  {
   "cell_type": "markdown",
   "id": "30c72646-3a9d-4704-946b-82a8ad0c01a6",
   "metadata": {},
   "source": [
    "## References\n",
    "[1] https://numpy.org/doc/stable/user/whatisnumpy.html  \n",
    "[2] https://en.wikipedia.org/wiki/Travis_Oliphant  \n",
    "[3] https://www.howtogeek.com/183051/htg-explains-how-computers-generate-random-numbers/  \n",
    "[4] https://en.wikipedia.org/wiki/Permutation  \n",
    "[5] https://www.bbc.com/news/world-europe-57184977  \n",
    "[6] https://en.wikipedia.org/wiki/Carl_Friedrich_Gauss  \n",
    "[7] https://en.wikipedia.org/wiki/Normal_distribution  \n",
    "[8] https://builtin.com/data-science/understanding-central-limit-theorem  \n",
    "[9] https://stackoverflow.com/questions/43436044/mean-value-of-each-element-in-multiple-lists-python  \n",
    "[10] https://www.statisticshowto.com/probability-and-statistics/binomial-theorem/binomial-distribution-formula/  \n",
    "[11] https://en.wikipedia.org/wiki/Vilfredo_Pareto   \n",
    "[12] https://en.wikipedia.org/wiki/Pareto_distribution  \n",
    "[13] https://stackoverflow.com/questions/46011785/how-to-do-superscripts-and-subscripts-in-jupyter-notebook  \n",
    "[14] https://en.wikipedia.org/wiki/Triangular_distribution  \n",
    "[15] "
   ]
  },
  {
   "cell_type": "markdown",
   "id": "1c2097ad-e6cb-4e21-ad56-14dd54d564a6",
   "metadata": {},
   "source": [
    "***\n",
    "# End"
   ]
  }
 ],
 "metadata": {
  "kernelspec": {
   "display_name": "Python 3",
   "language": "python",
   "name": "python3"
  },
  "language_info": {
   "codemirror_mode": {
    "name": "ipython",
    "version": 3
   },
   "file_extension": ".py",
   "mimetype": "text/x-python",
   "name": "python",
   "nbconvert_exporter": "python",
   "pygments_lexer": "ipython3",
   "version": "3.8.8"
  }
 },
 "nbformat": 4,
 "nbformat_minor": 5
}
